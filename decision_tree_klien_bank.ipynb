{
  "nbformat": 4,
  "nbformat_minor": 0,
  "metadata": {
    "colab": {
      "provenance": [],
      "toc_visible": true,
      "authorship_tag": "ABX9TyOWa77cFnbAkBf0rqgEKHUj",
      "include_colab_link": true
    },
    "kernelspec": {
      "name": "python3",
      "display_name": "Python 3"
    },
    "language_info": {
      "name": "python"
    }
  },
  "cells": [
    {
      "cell_type": "markdown",
      "metadata": {
        "id": "view-in-github",
        "colab_type": "text"
      },
      "source": [
        "<a href=\"https://colab.research.google.com/github/smirzap/AI-dengan-DL/blob/main/decision_tree_klien_bank.ipynb\" target=\"_parent\"><img src=\"https://colab.research.google.com/assets/colab-badge.svg\" alt=\"Open In Colab\"/></a>"
      ]
    },
    {
      "cell_type": "markdown",
      "source": [
        "# LAYANAN KARTU KREDIT\n",
        "Tujuan dari Notebook ini adalah untuk melakukan prediksi apakah seorang customer kartu kredit akan meninggalkan layanan bank atau tidak. Perhatikan bahwa sesuai dengan bahasan di buku, notebook ini menggunakan algoritme pembelajaran Decision Tree dengan mengubah jumlah data set pembelajaran.\n",
        "\n",
        "Data diambil dari [situs Kaggle](https://www.kaggle.com/code/chetbounl/data-exploration-model-evaluation-on-bankchurners/data). Atribut data adalah sebagai berikut.\n",
        "* CLIENTNUM: Client number. Unique identifier for the customer holding the account\n",
        "* Customer_Age: Demographic variable — Customer’s Age in Years\n",
        "* Gender: Demographic variable — M=Male, F=Female\n",
        "* Dependent_count: Demographic variable — Number of dependents\n",
        "* Education_Level: Demographic variable — Educational Qualification of the account holder (example: high school, college graduate, etc.)\n",
        "* Marital_Status: Demographic variable — Married, Single, Divorced, Unknown\n",
        "* Income_Category: Demographic variable — Annual Income Category of the account holder (< 40K,40K,40K — 60K, 60K−60K−80K, 80K−80K−120K, > $120K, Unknown)\n",
        "* Card_Category: Product Variable — Type of Card (Blue, Silver, Gold, Platinum)\n",
        "* Months_on_book: Period of relationship with bank\n",
        "* Total_Relationship_Count: Total no. of products held by the customer\n",
        "* Months_Inactive_12_mon: No. of months inactive in the last 12 months\n",
        "* Contacts_Count_12_mon: No. of Contacts in the last 12 months\n",
        "* Credit_Limit: Credit Limit on the Credit Card\n",
        "* Total_Revolving_Bal: Total Revolving Balance on the Credit Card\n",
        "* Avg_Open_To_Buy: Open to Buy Credit Line (Average of last 12 months)\n",
        "* Total_Amt_Chng_Q4_Q1: Change in Transaction Amount (Q4 over Q1)\n",
        "* Total_Trans_Amt: Total Transaction Amount (Last 12 months)\n",
        "* Total_Trans_Ct: Total Transaction Count (Last 12 months)\n",
        "* Total_Ct_Chng_Q4_Q1: Change in Transaction Count (Q4 over Q1)\n",
        "* Avg_Utilization_Ratio: Average Card Utilization Ratio\n",
        "\n",
        "\n"
      ],
      "metadata": {
        "id": "OaNM3rohZgwY"
      }
    },
    {
      "cell_type": "markdown",
      "source": [
        "## Siapkan beberapa library yang dibutuhkan"
      ],
      "metadata": {
        "id": "BEjLaBWhcZXX"
      }
    },
    {
      "cell_type": "code",
      "execution_count": null,
      "metadata": {
        "id": "Zo5S_snjZWMr"
      },
      "outputs": [],
      "source": [
        "import pandas as pd\n",
        "import matplotlib.pyplot as plt"
      ]
    },
    {
      "cell_type": "markdown",
      "source": [
        "## Load dataset"
      ],
      "metadata": {
        "id": "sre3vn7i_fyU"
      }
    },
    {
      "cell_type": "code",
      "source": [
        "# Unduh dataset untuk pembelajaran mesin\n",
        "df = pd.read_csv('https://raw.githubusercontent.com/smirzap/AI-dengan-DL/main/data/BankChurners.csv')"
      ],
      "metadata": {
        "id": "lxuvWmrNcktw"
      },
      "execution_count": null,
      "outputs": []
    },
    {
      "cell_type": "markdown",
      "source": [
        "## Explore Dataset dan Lakukan Preprocessing"
      ],
      "metadata": {
        "id": "Gyr2ZuQK_irC"
      }
    },
    {
      "cell_type": "code",
      "source": [
        "df.info()"
      ],
      "metadata": {
        "colab": {
          "base_uri": "https://localhost:8080/"
        },
        "id": "Ij4ZGQoHcu8X",
        "outputId": "ce1787d9-59b2-40d6-eeda-a1c771dd687c"
      },
      "execution_count": null,
      "outputs": [
        {
          "output_type": "stream",
          "name": "stdout",
          "text": [
            "<class 'pandas.core.frame.DataFrame'>\n",
            "RangeIndex: 10127 entries, 0 to 10126\n",
            "Data columns (total 23 columns):\n",
            " #   Column                                                                                                                              Non-Null Count  Dtype  \n",
            "---  ------                                                                                                                              --------------  -----  \n",
            " 0   CLIENTNUM                                                                                                                           10127 non-null  int64  \n",
            " 1   Attrition_Flag                                                                                                                      10127 non-null  object \n",
            " 2   Customer_Age                                                                                                                        10127 non-null  int64  \n",
            " 3   Gender                                                                                                                              10127 non-null  object \n",
            " 4   Dependent_count                                                                                                                     10127 non-null  int64  \n",
            " 5   Education_Level                                                                                                                     10127 non-null  object \n",
            " 6   Marital_Status                                                                                                                      10127 non-null  object \n",
            " 7   Income_Category                                                                                                                     10127 non-null  object \n",
            " 8   Card_Category                                                                                                                       10127 non-null  object \n",
            " 9   Months_on_book                                                                                                                      10127 non-null  int64  \n",
            " 10  Total_Relationship_Count                                                                                                            10127 non-null  int64  \n",
            " 11  Months_Inactive_12_mon                                                                                                              10127 non-null  int64  \n",
            " 12  Contacts_Count_12_mon                                                                                                               10127 non-null  int64  \n",
            " 13  Credit_Limit                                                                                                                        10127 non-null  float64\n",
            " 14  Total_Revolving_Bal                                                                                                                 10127 non-null  int64  \n",
            " 15  Avg_Open_To_Buy                                                                                                                     10127 non-null  float64\n",
            " 16  Total_Amt_Chng_Q4_Q1                                                                                                                10127 non-null  float64\n",
            " 17  Total_Trans_Amt                                                                                                                     10127 non-null  int64  \n",
            " 18  Total_Trans_Ct                                                                                                                      10127 non-null  int64  \n",
            " 19  Total_Ct_Chng_Q4_Q1                                                                                                                 10127 non-null  float64\n",
            " 20  Avg_Utilization_Ratio                                                                                                               10127 non-null  float64\n",
            " 21  Naive_Bayes_Classifier_Attrition_Flag_Card_Category_Contacts_Count_12_mon_Dependent_count_Education_Level_Months_Inactive_12_mon_1  10127 non-null  float64\n",
            " 22  Naive_Bayes_Classifier_Attrition_Flag_Card_Category_Contacts_Count_12_mon_Dependent_count_Education_Level_Months_Inactive_12_mon_2  10127 non-null  float64\n",
            "dtypes: float64(7), int64(10), object(6)\n",
            "memory usage: 1.8+ MB\n"
          ]
        }
      ]
    },
    {
      "cell_type": "code",
      "source": [
        "# Dalam experimen ini, kita tidak memerlukan kolom 0, 16, 19, 21 dan 22\n",
        "# Jadi kita hapus kolom-kolom tersebut\n",
        "hapus_kolom = [0, 16, 19, 21, 22]\n",
        "df.drop(df.columns[hapus_kolom], axis=1, inplace=True)\n",
        "\n",
        "df.info()"
      ],
      "metadata": {
        "colab": {
          "base_uri": "https://localhost:8080/"
        },
        "id": "LR8bWHQoc5pm",
        "outputId": "28967096-f736-48b5-f6b0-ad3a3babf95a"
      },
      "execution_count": null,
      "outputs": [
        {
          "output_type": "stream",
          "name": "stdout",
          "text": [
            "<class 'pandas.core.frame.DataFrame'>\n",
            "RangeIndex: 10127 entries, 0 to 10126\n",
            "Data columns (total 18 columns):\n",
            " #   Column                    Non-Null Count  Dtype  \n",
            "---  ------                    --------------  -----  \n",
            " 0   Attrition_Flag            10127 non-null  object \n",
            " 1   Customer_Age              10127 non-null  int64  \n",
            " 2   Gender                    10127 non-null  object \n",
            " 3   Dependent_count           10127 non-null  int64  \n",
            " 4   Education_Level           10127 non-null  object \n",
            " 5   Marital_Status            10127 non-null  object \n",
            " 6   Income_Category           10127 non-null  object \n",
            " 7   Card_Category             10127 non-null  object \n",
            " 8   Months_on_book            10127 non-null  int64  \n",
            " 9   Total_Relationship_Count  10127 non-null  int64  \n",
            " 10  Months_Inactive_12_mon    10127 non-null  int64  \n",
            " 11  Contacts_Count_12_mon     10127 non-null  int64  \n",
            " 12  Credit_Limit              10127 non-null  float64\n",
            " 13  Total_Revolving_Bal       10127 non-null  int64  \n",
            " 14  Avg_Open_To_Buy           10127 non-null  float64\n",
            " 15  Total_Trans_Amt           10127 non-null  int64  \n",
            " 16  Total_Trans_Ct            10127 non-null  int64  \n",
            " 17  Avg_Utilization_Ratio     10127 non-null  float64\n",
            "dtypes: float64(3), int64(9), object(6)\n",
            "memory usage: 1.4+ MB\n"
          ]
        }
      ]
    },
    {
      "cell_type": "code",
      "source": [
        "# Ubah nama kolom agar mudah diingat\n",
        "df.rename(columns={'Attrition_Flag':'status'}, inplace=True)"
      ],
      "metadata": {
        "id": "rWwHqbZe6tim"
      },
      "execution_count": null,
      "outputs": []
    },
    {
      "cell_type": "markdown",
      "source": [
        "## Siapkan Dataset untuk Pembelajaran Mesin"
      ],
      "metadata": {
        "id": "wk7LmLovKcRc"
      }
    },
    {
      "cell_type": "code",
      "source": [
        "# Attrition_Flag adalah label data, yang menginfokan apakah customer telah meninggalkan layanan kartu kredit bank atau tidak\n",
        "df['status'].value_counts()\n",
        "\n",
        "# Terlihat jumlah data customer setiap 5 kali lebih banyak dibanding customer keluar"
      ],
      "metadata": {
        "colab": {
          "base_uri": "https://localhost:8080/"
        },
        "id": "OdKJNW2mdlgg",
        "outputId": "c1a559bf-4d85-41ec-ebd0-919bc2ace036"
      },
      "execution_count": null,
      "outputs": [
        {
          "output_type": "execute_result",
          "data": {
            "text/plain": [
              "Existing Customer    8500\n",
              "Attrited Customer    1627\n",
              "Name: status, dtype: int64"
            ]
          },
          "metadata": {},
          "execution_count": 58
        }
      ]
    },
    {
      "cell_type": "code",
      "source": [
        "SAMPLE_SETIA = 8500\n",
        "SAMPLE_KELUAR = 400\n",
        "RANDOM_SEED = 2"
      ],
      "metadata": {
        "id": "BQFoUp_gI9nE"
      },
      "execution_count": null,
      "outputs": []
    },
    {
      "cell_type": "code",
      "source": [
        "df_keluar = df[df['status']=='Attrited Customer']\n",
        "df_setia = df[df['status']=='Existing Customer']\n",
        "\n",
        "len(df_setia), len(df_keluar)"
      ],
      "metadata": {
        "colab": {
          "base_uri": "https://localhost:8080/"
        },
        "id": "keKU8ClKILz_",
        "outputId": "535916db-014c-45d4-a912-ce255d700d91"
      },
      "execution_count": null,
      "outputs": [
        {
          "output_type": "execute_result",
          "data": {
            "text/plain": [
              "(8500, 1627)"
            ]
          },
          "metadata": {},
          "execution_count": 23
        }
      ]
    },
    {
      "cell_type": "code",
      "source": [
        "df_setia_sampled = df_setia.sample(SAMPLE_SETIA, random_state=RANDOM_SEED)\n",
        "df_keluar_sampled = df_keluar.sample(SAMPLE_KELUAR, random_state=RANDOM_SEED)\n",
        "\n",
        "len(df_setia_sampled), len(df_keluar_sampled)"
      ],
      "metadata": {
        "colab": {
          "base_uri": "https://localhost:8080/"
        },
        "id": "GTIt7p4UIt_v",
        "outputId": "524fcd7c-8c0b-469e-9b89-9beb66f6d686"
      },
      "execution_count": null,
      "outputs": [
        {
          "output_type": "execute_result",
          "data": {
            "text/plain": [
              "(8500, 400)"
            ]
          },
          "metadata": {},
          "execution_count": 24
        }
      ]
    },
    {
      "cell_type": "code",
      "source": [
        "dataset_sample = pd.concat([df_setia_sampled, df_keluar_sampled])\n",
        "len(dataset_sample)"
      ],
      "metadata": {
        "colab": {
          "base_uri": "https://localhost:8080/"
        },
        "id": "M6zCZpTrJpHI",
        "outputId": "7a33711c-c7cf-4f78-8551-adfa330942f0"
      },
      "execution_count": null,
      "outputs": [
        {
          "output_type": "execute_result",
          "data": {
            "text/plain": [
              "8900"
            ]
          },
          "metadata": {},
          "execution_count": 25
        }
      ]
    },
    {
      "cell_type": "markdown",
      "source": [
        "## Eksperimen Pertama\n",
        "\n",
        "Eksperimen ini dilakukan untuk melihat sifat adaptif dari pembelajaran mesin dan keakuratan model dalam hubungan jumlah pengalaman/dataset yang diberikan kepada mesin.\n",
        "\n",
        "Terdapat dua eksperimen:\n",
        "\n",
        "1.   Pada saat jumlah data customer keluar jauh lebih sedikit dibanding dengan jumlah data customer setia.\n",
        "2.   Pada saat jumlah data kedua jenis customer tersebut hampir berimbang.\n",
        "\n"
      ],
      "metadata": {
        "id": "-K0MKYjNgIft"
      }
    },
    {
      "cell_type": "code",
      "source": [
        "# Lihat sebaran jumlah customer berdasarkan status/label mereka\n",
        "dataset_sample['status'].value_counts()"
      ],
      "metadata": {
        "colab": {
          "base_uri": "https://localhost:8080/"
        },
        "id": "PHCyjlwAggfF",
        "outputId": "47f9132b-bf36-459d-94e8-ed105b980488"
      },
      "execution_count": null,
      "outputs": [
        {
          "output_type": "execute_result",
          "data": {
            "text/plain": [
              "Existing Customer    8500\n",
              "Attrited Customer     400\n",
              "Name: status, dtype: int64"
            ]
          },
          "metadata": {},
          "execution_count": 26
        }
      ]
    },
    {
      "cell_type": "code",
      "source": [
        "from sklearn.tree import DecisionTreeClassifier\n",
        "from sklearn.model_selection import train_test_split\n",
        "#from sklearn.metrics import classification_report, confusion_matrix, ConfusionMatrixDisplay\n",
        "from sklearn.metrics import recall_score"
      ],
      "metadata": {
        "id": "e280vKeMglAO"
      },
      "execution_count": null,
      "outputs": []
    },
    {
      "cell_type": "code",
      "source": [
        "# Pisahkan kolom label dengan kolom feature lainnya\n",
        "X = dataset_sample.drop('status', axis=True)\n",
        "y = dataset_sample['status']"
      ],
      "metadata": {
        "id": "mN2ZMM-ohNFf"
      },
      "execution_count": null,
      "outputs": []
    },
    {
      "cell_type": "code",
      "source": [
        "X.info()"
      ],
      "metadata": {
        "colab": {
          "base_uri": "https://localhost:8080/"
        },
        "id": "SZQzlpbCXfCt",
        "outputId": "dbe06dc3-cbcd-4a3e-ad10-24cc65548eee"
      },
      "execution_count": null,
      "outputs": [
        {
          "output_type": "stream",
          "name": "stdout",
          "text": [
            "<class 'pandas.core.frame.DataFrame'>\n",
            "Int64Index: 8900 entries, 1322 to 7336\n",
            "Data columns (total 17 columns):\n",
            " #   Column                    Non-Null Count  Dtype  \n",
            "---  ------                    --------------  -----  \n",
            " 0   Customer_Age              8900 non-null   int64  \n",
            " 1   Gender                    8900 non-null   object \n",
            " 2   Dependent_count           8900 non-null   int64  \n",
            " 3   Education_Level           8900 non-null   object \n",
            " 4   Marital_Status            8900 non-null   object \n",
            " 5   Income_Category           8900 non-null   object \n",
            " 6   Card_Category             8900 non-null   object \n",
            " 7   Months_on_book            8900 non-null   int64  \n",
            " 8   Total_Relationship_Count  8900 non-null   int64  \n",
            " 9   Months_Inactive_12_mon    8900 non-null   int64  \n",
            " 10  Contacts_Count_12_mon     8900 non-null   int64  \n",
            " 11  Credit_Limit              8900 non-null   float64\n",
            " 12  Total_Revolving_Bal       8900 non-null   int64  \n",
            " 13  Avg_Open_To_Buy           8900 non-null   float64\n",
            " 14  Total_Trans_Amt           8900 non-null   int64  \n",
            " 15  Total_Trans_Ct            8900 non-null   int64  \n",
            " 16  Avg_Utilization_Ratio     8900 non-null   float64\n",
            "dtypes: float64(3), int64(9), object(5)\n",
            "memory usage: 1.2+ MB\n"
          ]
        }
      ]
    },
    {
      "cell_type": "code",
      "source": [
        "X = pd.get_dummies(X, drop_first=True) # Hot Encoding the category/string columns"
      ],
      "metadata": {
        "id": "4Zs-KadJXerw"
      },
      "execution_count": null,
      "outputs": []
    },
    {
      "cell_type": "code",
      "source": [
        "X.info()"
      ],
      "metadata": {
        "colab": {
          "base_uri": "https://localhost:8080/"
        },
        "id": "dy2INl2rZLwa",
        "outputId": "7c723872-ecfb-44f1-a77b-ba12d5c5e203"
      },
      "execution_count": null,
      "outputs": [
        {
          "output_type": "stream",
          "name": "stdout",
          "text": [
            "<class 'pandas.core.frame.DataFrame'>\n",
            "Int64Index: 8900 entries, 1322 to 7336\n",
            "Data columns (total 30 columns):\n",
            " #   Column                          Non-Null Count  Dtype  \n",
            "---  ------                          --------------  -----  \n",
            " 0   Customer_Age                    8900 non-null   int64  \n",
            " 1   Dependent_count                 8900 non-null   int64  \n",
            " 2   Months_on_book                  8900 non-null   int64  \n",
            " 3   Total_Relationship_Count        8900 non-null   int64  \n",
            " 4   Months_Inactive_12_mon          8900 non-null   int64  \n",
            " 5   Contacts_Count_12_mon           8900 non-null   int64  \n",
            " 6   Credit_Limit                    8900 non-null   float64\n",
            " 7   Total_Revolving_Bal             8900 non-null   int64  \n",
            " 8   Avg_Open_To_Buy                 8900 non-null   float64\n",
            " 9   Total_Trans_Amt                 8900 non-null   int64  \n",
            " 10  Total_Trans_Ct                  8900 non-null   int64  \n",
            " 11  Avg_Utilization_Ratio           8900 non-null   float64\n",
            " 12  Gender_M                        8900 non-null   uint8  \n",
            " 13  Education_Level_Doctorate       8900 non-null   uint8  \n",
            " 14  Education_Level_Graduate        8900 non-null   uint8  \n",
            " 15  Education_Level_High School     8900 non-null   uint8  \n",
            " 16  Education_Level_Post-Graduate   8900 non-null   uint8  \n",
            " 17  Education_Level_Uneducated      8900 non-null   uint8  \n",
            " 18  Education_Level_Unknown         8900 non-null   uint8  \n",
            " 19  Marital_Status_Married          8900 non-null   uint8  \n",
            " 20  Marital_Status_Single           8900 non-null   uint8  \n",
            " 21  Marital_Status_Unknown          8900 non-null   uint8  \n",
            " 22  Income_Category_$40K - $60K     8900 non-null   uint8  \n",
            " 23  Income_Category_$60K - $80K     8900 non-null   uint8  \n",
            " 24  Income_Category_$80K - $120K    8900 non-null   uint8  \n",
            " 25  Income_Category_Less than $40K  8900 non-null   uint8  \n",
            " 26  Income_Category_Unknown         8900 non-null   uint8  \n",
            " 27  Card_Category_Gold              8900 non-null   uint8  \n",
            " 28  Card_Category_Platinum          8900 non-null   uint8  \n",
            " 29  Card_Category_Silver            8900 non-null   uint8  \n",
            "dtypes: float64(3), int64(9), uint8(18)\n",
            "memory usage: 1.0 MB\n"
          ]
        }
      ]
    },
    {
      "cell_type": "code",
      "source": [
        "# Bagi dataset menjadi training dan test sets\n",
        "X_train, X_test, y_train, y_test = train_test_split(X, y, test_size=0.3, random_state=RANDOM_SEED)"
      ],
      "metadata": {
        "id": "nK38byw1oftG"
      },
      "execution_count": null,
      "outputs": []
    },
    {
      "cell_type": "code",
      "source": [
        "# Periksa jumlah data pada train dan test set\n",
        "len(X_train), len(X_test)"
      ],
      "metadata": {
        "colab": {
          "base_uri": "https://localhost:8080/"
        },
        "id": "au4i0MRyi-JT",
        "outputId": "de03c401-f639-49b1-a3af-02d3d30b02b0"
      },
      "execution_count": null,
      "outputs": [
        {
          "output_type": "execute_result",
          "data": {
            "text/plain": [
              "(6230, 2670)"
            ]
          },
          "metadata": {},
          "execution_count": 33
        }
      ]
    },
    {
      "cell_type": "code",
      "source": [
        "# Definisikan model Decision Tree\n",
        "model = DecisionTreeClassifier(max_depth=2, random_state=RANDOM_SEED)"
      ],
      "metadata": {
        "id": "6Ckdj3sQhwyV"
      },
      "execution_count": null,
      "outputs": []
    },
    {
      "cell_type": "code",
      "source": [
        "# Lakukan pembelajaran dan pembentukan model dengan training set\n",
        "model.fit(X_train, y_train)"
      ],
      "metadata": {
        "colab": {
          "base_uri": "https://localhost:8080/"
        },
        "id": "rmB2SLgYgzY2",
        "outputId": "306bb22a-1542-477a-cf81-9dde3d6c9d44"
      },
      "execution_count": null,
      "outputs": [
        {
          "output_type": "execute_result",
          "data": {
            "text/plain": [
              "DecisionTreeClassifier(max_depth=2, random_state=2)"
            ]
          },
          "metadata": {},
          "execution_count": 35
        }
      ]
    },
    {
      "cell_type": "code",
      "source": [
        "# Lakukan evaluasi kinerja Model dengan menggunakan Test Set\n",
        "prediksi = model.predict(X_test)"
      ],
      "metadata": {
        "id": "la6II0QwhFD0"
      },
      "execution_count": null,
      "outputs": []
    },
    {
      "cell_type": "code",
      "source": [
        "recall_score(y_test, prediksi, average=None)"
      ],
      "metadata": {
        "colab": {
          "base_uri": "https://localhost:8080/"
        },
        "id": "oKk0uFMx9lz6",
        "outputId": "27389716-39b8-4f91-c35f-4ae1869812fe"
      },
      "execution_count": null,
      "outputs": [
        {
          "output_type": "execute_result",
          "data": {
            "text/plain": [
              "array([0.28571429, 0.99288538])"
            ]
          },
          "metadata": {},
          "execution_count": 37
        }
      ]
    },
    {
      "cell_type": "code",
      "source": [
        "from sklearn.tree import plot_tree\n",
        "from sklearn import tree"
      ],
      "metadata": {
        "id": "uY7HX_OgpoEC"
      },
      "execution_count": null,
      "outputs": []
    },
    {
      "cell_type": "code",
      "source": [
        "plt.figure(figsize=(15,10), dpi=60)\n",
        "plot_tree(model, feature_names=X.columns);"
      ],
      "metadata": {
        "colab": {
          "base_uri": "https://localhost:8080/",
          "height": 482
        },
        "id": "fuW93UPLwqRO",
        "outputId": "4e1feb8f-1836-4007-e097-efe1a5b9116c"
      },
      "execution_count": null,
      "outputs": [
        {
          "output_type": "display_data",
          "data": {
            "text/plain": [
              "<Figure size 900x600 with 1 Axes>"
            ],
            "image/png": "[encoded data removed]"
          },
          "metadata": {
            "needs_background": "light"
          }
        }
      ]
    },
    {
      "cell_type": "code",
      "source": [
        "# plt.figure(figsize=(15,10), dpi=150)\n",
        "# plot_tree(model, feature_names=X.columns);\n",
        "rules = tree.export_text(model)\n",
        "print(rules)"
      ],
      "metadata": {
        "colab": {
          "base_uri": "https://localhost:8080/"
        },
        "id": "LpO_I3ChDBhx",
        "outputId": "25ac5fb7-f026-4ccf-c7d0-92e52cc322dc"
      },
      "execution_count": null,
      "outputs": [
        {
          "output_type": "stream",
          "name": "stdout",
          "text": [
            "|--- feature_10 <= 54.50\n",
            "|   |--- feature_3 <= 2.50\n",
            "|   |   |--- class: Attrited Customer\n",
            "|   |--- feature_3 >  2.50\n",
            "|   |   |--- class: Existing Customer\n",
            "|--- feature_10 >  54.50\n",
            "|   |--- feature_5 <= 5.50\n",
            "|   |   |--- class: Existing Customer\n",
            "|   |--- feature_5 >  5.50\n",
            "|   |   |--- class: Attrited Customer\n",
            "\n"
          ]
        }
      ]
    },
    {
      "cell_type": "code",
      "source": [
        "model.classes_"
      ],
      "metadata": {
        "id": "LAaAUCceMNFc",
        "colab": {
          "base_uri": "https://localhost:8080/"
        },
        "outputId": "dec1c47d-10f3-4683-e420-447dc9af2a69"
      },
      "execution_count": null,
      "outputs": [
        {
          "output_type": "execute_result",
          "data": {
            "text/plain": [
              "array(['Attrited Customer', 'Existing Customer'], dtype=object)"
            ]
          },
          "metadata": {},
          "execution_count": 42
        }
      ]
    },
    {
      "cell_type": "markdown",
      "source": [
        "## Eksperimen Kedua"
      ],
      "metadata": {
        "id": "PLeC8zT1u7za"
      }
    },
    {
      "cell_type": "code",
      "source": [
        "dataset_full = df.copy(deep=True)"
      ],
      "metadata": {
        "id": "MPZBJmxhwCno"
      },
      "execution_count": null,
      "outputs": []
    },
    {
      "cell_type": "code",
      "source": [
        "# Pisahkan kolom label dengan kolom feature lainnya\n",
        "X = dataset_full.drop('status', axis=True)\n",
        "y = dataset_full['status']"
      ],
      "metadata": {
        "id": "JDWWaYlPtcXk"
      },
      "execution_count": null,
      "outputs": []
    },
    {
      "cell_type": "code",
      "source": [
        "X = pd.get_dummies(X, drop_first=True) # Hot Encoding the category/string columns"
      ],
      "metadata": {
        "id": "9cXw6p4HvAsg"
      },
      "execution_count": null,
      "outputs": []
    },
    {
      "cell_type": "code",
      "source": [
        "# Bagi dataset menjadi training dan test sets\n",
        "X_train, X_test, y_train, y_test = train_test_split(X, y, test_size=0.3, random_state=RANDOM_SEED)"
      ],
      "metadata": {
        "id": "V2PpJMenvR3F"
      },
      "execution_count": null,
      "outputs": []
    },
    {
      "cell_type": "code",
      "source": [
        "# Definisikan model Decision Tree\n",
        "model2 = DecisionTreeClassifier(max_depth=2, random_state=RANDOM_SEED)"
      ],
      "metadata": {
        "id": "Fq6Av08AvV9E"
      },
      "execution_count": null,
      "outputs": []
    },
    {
      "cell_type": "code",
      "source": [
        "# Lakukan pembelajaran dan pembentukan model dengan training set\n",
        "model2.fit(X_train, y_train)"
      ],
      "metadata": {
        "colab": {
          "base_uri": "https://localhost:8080/"
        },
        "id": "jhVhA62RvcHs",
        "outputId": "2a56702e-1ef7-412a-d57b-afc046675737"
      },
      "execution_count": null,
      "outputs": [
        {
          "output_type": "execute_result",
          "data": {
            "text/plain": [
              "DecisionTreeClassifier(max_depth=2, random_state=2)"
            ]
          },
          "metadata": {},
          "execution_count": 73
        }
      ]
    },
    {
      "cell_type": "code",
      "source": [
        "# Lakukan evaluasi kinerja Model dengan menggunakan Test Set\n",
        "prediksi = model2.predict(X_test)"
      ],
      "metadata": {
        "id": "Uu99umtfviu0"
      },
      "execution_count": null,
      "outputs": []
    },
    {
      "cell_type": "code",
      "source": [
        "rules = tree.export_text(model2)\n",
        "print(rules)"
      ],
      "metadata": {
        "id": "0d0lxPRGxhM3",
        "outputId": "8fb7b679-fb38-4142-d49c-1798d95c3b0a",
        "colab": {
          "base_uri": "https://localhost:8080/"
        }
      },
      "execution_count": null,
      "outputs": [
        {
          "output_type": "stream",
          "name": "stdout",
          "text": [
            "|--- feature_10 <= 54.50\n",
            "|   |--- feature_7 <= 615.50\n",
            "|   |   |--- class: Attrited Customer\n",
            "|   |--- feature_7 >  615.50\n",
            "|   |   |--- class: Existing Customer\n",
            "|--- feature_10 >  54.50\n",
            "|   |--- feature_9 <= 5361.50\n",
            "|   |   |--- class: Existing Customer\n",
            "|   |--- feature_9 >  5361.50\n",
            "|   |   |--- class: Existing Customer\n",
            "\n"
          ]
        }
      ]
    },
    {
      "cell_type": "code",
      "source": [
        "rules = tree.export_text(model2)\n",
        "print(rules)"
      ],
      "metadata": {
        "colab": {
          "base_uri": "https://localhost:8080/"
        },
        "id": "ljBnpOlAwOOe",
        "outputId": "7cf5170e-f12f-4256-b8b8-96797723401a"
      },
      "execution_count": null,
      "outputs": [
        {
          "output_type": "stream",
          "name": "stdout",
          "text": [
            "|--- feature_10 <= 54.50\n",
            "|   |--- feature_7 <= 581.00\n",
            "|   |   |--- class: Attrited Customer\n",
            "|   |--- feature_7 >  581.00\n",
            "|   |   |--- class: Existing Customer\n",
            "|--- feature_10 >  54.50\n",
            "|   |--- feature_9 <= 5271.50\n",
            "|   |   |--- class: Existing Customer\n",
            "|   |--- feature_9 >  5271.50\n",
            "|   |   |--- class: Existing Customer\n",
            "\n"
          ]
        }
      ]
    },
    {
      "cell_type": "code",
      "source": [
        "recall_score(y_test, prediksi, average=None)"
      ],
      "metadata": {
        "colab": {
          "base_uri": "https://localhost:8080/"
        },
        "id": "I3-KXdV3voQE",
        "outputId": "4cbbdafe-3129-4157-eb04-5fe2ec1a276d"
      },
      "execution_count": null,
      "outputs": [
        {
          "output_type": "execute_result",
          "data": {
            "text/plain": [
              "array([0.48664122, 0.9666004 ])"
            ]
          },
          "metadata": {},
          "execution_count": 66
        }
      ]
    },
    {
      "cell_type": "code",
      "source": [],
      "metadata": {
        "id": "vRLebtG2vr1l"
      },
      "execution_count": null,
      "outputs": []
    }
  ]
}