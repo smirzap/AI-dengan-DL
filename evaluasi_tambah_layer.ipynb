{
  "nbformat": 4,
  "nbformat_minor": 0,
  "metadata": {
    "colab": {
      "provenance": [],
      "toc_visible": true,
      "include_colab_link": true
    },
    "kernelspec": {
      "name": "python3",
      "display_name": "Python 3"
    },
    "language_info": {
      "name": "python"
    }
  },
  "cells": [
    {
      "cell_type": "markdown",
      "metadata": {
        "id": "view-in-github",
        "colab_type": "text"
      },
      "source": [
        "<a href=\"https://colab.research.google.com/github/smirzap/AI-dengan-DL/blob/main/evaluasi_tambah_layer.ipynb\" target=\"_parent\"><img src=\"https://colab.research.google.com/assets/colab-badge.svg\" alt=\"Open In Colab\"/></a>"
      ]
    },
    {
      "cell_type": "markdown",
      "metadata": {
        "id": "8k9CGW7wrB8c"
      },
      "source": [
        "# Persiapan\n",
        "Import library atau fungsi yang diperlukan"
      ]
    },
    {
      "cell_type": "code",
      "metadata": {
        "id": "N4GTeigJpZQh"
      },
      "source": [
        "import tensorflow as tf\n",
        "from tensorflow import keras\n",
        "%load_ext tensorboard\n",
        "import datetime"
      ],
      "execution_count": null,
      "outputs": []
    },
    {
      "cell_type": "code",
      "metadata": {
        "id": "_D4qBME91p-d"
      },
      "source": [
        "# Hapus semua logs yangtelah dibuat sebelumnya\n",
        "!rm -rf ./logs/"
      ],
      "execution_count": null,
      "outputs": []
    },
    {
      "cell_type": "markdown",
      "metadata": {
        "id": "YeFDGM0XrdvL"
      },
      "source": [
        "# Unduh Dataset\n",
        "Unduh Dataset yang akan digunakan dalam pembuatan model.\n",
        "\n",
        "Dataset adalah Fashion-MNIST yang merupakan kumpulan data gambar artikel Zalando yang terdiri dari Training Set 60.000 example dan Test Set 10.000 example.\n",
        "\n",
        "Setiap example adalah gambar skala abu-abu 28x28 pixels dimana nilai setiap pixel adalah bilangan bulat/integer diantara 0 sd. 255 (0 hitam dan 255 putih).\n",
        "\n",
        "Setiap gambar diberi label dari 10 kelas (pelabelan dilakukan manual oleh manusia) sebagai berikut:\n",
        "\n",
        "* 0 T-shirt/top\n",
        "* 1 Trouser\n",
        "* 2 Pullover\n",
        "* 3 Dress\n",
        "* 4 Coat\n",
        "* 5 Sandal\n",
        "* 6 Shirt\n",
        "* 7 Sneaker\n",
        "* 8 Bag\n",
        "* 9 Ankle boot\n",
        "\n"
      ]
    },
    {
      "cell_type": "code",
      "metadata": {
        "id": "qDdyUJrypy9m",
        "colab": {
          "base_uri": "https://localhost:8080/"
        },
        "outputId": "e17c4d06-6e2b-4dea-bc13-14a6f163cb99"
      },
      "source": [
        "# Unduh dataset\n",
        "fashion=keras.datasets.fashion_mnist\n",
        "(Xtrain, ytrain), (Xtest, ytest) = fashion.load_data()\n",
        "\n",
        "class_names = ['T-shirt/top', 'Trouser', 'Pullover', 'Dress', 'Coat',\n",
        "               'Sandal', 'Shirt', 'Sneaker', 'Bag', 'Ankle boot']\n",
        "\n",
        "# Normalisasi nilai piksel menjadi diantara 0 sd 1 (inclusive)\n",
        "Xtrain, Xtest = Xtrain/255.0, Xtest/255.0"
      ],
      "execution_count": null,
      "outputs": [
        {
          "output_type": "stream",
          "name": "stdout",
          "text": [
            "Downloading data from https://storage.googleapis.com/tensorflow/tf-keras-datasets/train-labels-idx1-ubyte.gz\n",
            "32768/29515 [=================================] - 0s 0us/step\n",
            "40960/29515 [=========================================] - 0s 0us/step\n",
            "Downloading data from https://storage.googleapis.com/tensorflow/tf-keras-datasets/train-images-idx3-ubyte.gz\n",
            "26427392/26421880 [==============================] - 0s 0us/step\n",
            "26435584/26421880 [==============================] - 0s 0us/step\n",
            "Downloading data from https://storage.googleapis.com/tensorflow/tf-keras-datasets/t10k-labels-idx1-ubyte.gz\n",
            "16384/5148 [===============================================================================================] - 0s 0us/step\n",
            "Downloading data from https://storage.googleapis.com/tensorflow/tf-keras-datasets/t10k-images-idx3-ubyte.gz\n",
            "4423680/4422102 [==============================] - 0s 0us/step\n",
            "4431872/4422102 [==============================] - 0s 0us/step\n"
          ]
        }
      ]
    },
    {
      "cell_type": "markdown",
      "metadata": {
        "id": "FWYOyADysyj0"
      },
      "source": [
        "# Definisikan DNN\n",
        "Karena MNIST memiliki 10 kategori atau class, maka didefinisikan 10 nodes pada output layer dengan fungsi Aktivasi Softmax.\n",
        "\n",
        "Fungsi Aktivasi Softmax melihat nilai output dari neuron-neuron pada layer sebelumnya dan memberikan probabilitas untuk setiap kelas pada output layer.\n",
        "\n",
        "Hasil prediksi adalah dengan mengambil kemungkinan yang paling tinggi pada output.\n"
      ]
    },
    {
      "cell_type": "code",
      "metadata": {
        "id": "kPC_9GnY-pcn"
      },
      "source": [
        "model = keras.models.Sequential()\n",
        "model.add(keras.layers.Flatten(input_shape=[28, 28]))\n",
        "model.add(keras.layers.Dense(50, activation='relu'))\n",
        "#model.add(keras.layers.Dense(100, activation='relu'))\n",
        "model.add(keras.layers.Dense(10, activation='softmax'))"
      ],
      "execution_count": null,
      "outputs": []
    },
    {
      "cell_type": "code",
      "metadata": {
        "id": "y_wp4dCHFfIa"
      },
      "source": [
        "# We expect labels to be provided as integers.\n",
        "# If you want to provide labels using one-hot representation, please use CategoricalCrossentropy loss.\n",
        "# If we were doing binary classification (with one or more binary labels), then we would use the \"sigmoid\"\n",
        "# (i.e., logistic) activation function in the output layer instead of the \"softmax\" activation function,\n",
        "# and we would use the \"binary_crossentropy\" loss.\n",
        "\n",
        "model.compile(loss='sparse_categorical_crossentropy', optimizer='SGD', metrics=['accuracy'])"
      ],
      "execution_count": null,
      "outputs": []
    },
    {
      "cell_type": "code",
      "metadata": {
        "id": "Bu64gG2p2Eww",
        "colab": {
          "base_uri": "https://localhost:8080/",
          "height": 52
        },
        "outputId": "89931b21-7098-4b5c-bc88-291f099d3d95"
      },
      "source": [
        "log_dir = \"logs/fit/\" + datetime.datetime.now().strftime(\"%Y%m%d-%H%M%S\")\n",
        "tensorboard_callback = tf.keras.callbacks.TensorBoard(log_dir=log_dir, histogram_freq=1)\n",
        "\n",
        "\"\"\"\n",
        "Experiment (epochs=100, one hidden with 100 neurons)\n",
        "1. batch = 32\n",
        "2. batch = 128\n",
        "3. batch = 60K\n",
        "4. batch = 512\n",
        "\n",
        "Experiment (epochs=100, two hidden with 100 neurons)\n",
        "1. batch = 128\n",
        "\n",
        "Experiment (epochs=100, one hidden with 200 neurons)\n",
        "1. batch = 128\n",
        "\n",
        "Experiment (epochs=100, one hidden with 50 neurons)\n",
        "1. batch = 128\n",
        "\"\"\""
      ],
      "execution_count": null,
      "outputs": [
        {
          "output_type": "execute_result",
          "data": {
            "application/vnd.google.colaboratory.intrinsic+json": {
              "type": "string"
            },
            "text/plain": [
              "'\\nExperiment (epochs=100, one hidden with 100 neurons)\\n1. batch = 32\\n2. batch = 128\\n3. batch = 60K\\n4. batch = 512\\n\\nExperiment (epochs=100, two hidden with 100 neurons)\\n1. batch = 128\\n\\nExperiment (epochs=100, one hidden with 200 neurons)\\n1. batch = 128\\n\\nExperiment (epochs=100, one hidden with 50 neurons)\\n1. batch = 128\\n'"
            ]
          },
          "metadata": {},
          "execution_count": 7
        }
      ]
    },
    {
      "cell_type": "code",
      "metadata": {
        "id": "1wPxN4Q3aN7m",
        "colab": {
          "base_uri": "https://localhost:8080/"
        },
        "outputId": "47ea84f1-8aeb-472d-ac4a-13dc33606788"
      },
      "source": [
        "history = model.fit(Xtrain, ytrain, epochs=100, validation_split=0.2, batch_size=128, callbacks=[tensorboard_callback])"
      ],
      "execution_count": null,
      "outputs": [
        {
          "output_type": "stream",
          "name": "stdout",
          "text": [
            "Epoch 1/100\n",
            "375/375 [==============================] - 2s 3ms/step - loss: 1.3105 - accuracy: 0.6075 - val_loss: 0.8679 - val_accuracy: 0.7306\n",
            "Epoch 2/100\n",
            "375/375 [==============================] - 1s 3ms/step - loss: 0.7781 - accuracy: 0.7524 - val_loss: 0.7045 - val_accuracy: 0.7674\n",
            "Epoch 3/100\n",
            "375/375 [==============================] - 1s 3ms/step - loss: 0.6686 - accuracy: 0.7827 - val_loss: 0.6319 - val_accuracy: 0.7885\n",
            "Epoch 4/100\n",
            "375/375 [==============================] - 1s 3ms/step - loss: 0.6127 - accuracy: 0.7988 - val_loss: 0.5911 - val_accuracy: 0.8017\n",
            "Epoch 5/100\n",
            "375/375 [==============================] - 1s 3ms/step - loss: 0.5771 - accuracy: 0.8088 - val_loss: 0.5640 - val_accuracy: 0.8100\n",
            "Epoch 6/100\n",
            "375/375 [==============================] - 1s 3ms/step - loss: 0.5515 - accuracy: 0.8161 - val_loss: 0.5495 - val_accuracy: 0.8154\n",
            "Epoch 7/100\n",
            "375/375 [==============================] - 1s 3ms/step - loss: 0.5330 - accuracy: 0.8227 - val_loss: 0.5291 - val_accuracy: 0.8198\n",
            "Epoch 8/100\n",
            "375/375 [==============================] - 1s 3ms/step - loss: 0.5171 - accuracy: 0.8263 - val_loss: 0.5160 - val_accuracy: 0.8235\n",
            "Epoch 9/100\n",
            "375/375 [==============================] - 1s 3ms/step - loss: 0.5048 - accuracy: 0.8298 - val_loss: 0.5064 - val_accuracy: 0.8278\n",
            "Epoch 10/100\n",
            "375/375 [==============================] - 1s 3ms/step - loss: 0.4942 - accuracy: 0.8331 - val_loss: 0.4958 - val_accuracy: 0.8291\n",
            "Epoch 11/100\n",
            "375/375 [==============================] - 1s 3ms/step - loss: 0.4847 - accuracy: 0.8360 - val_loss: 0.4885 - val_accuracy: 0.8322\n",
            "Epoch 12/100\n",
            "375/375 [==============================] - 1s 3ms/step - loss: 0.4765 - accuracy: 0.8384 - val_loss: 0.4806 - val_accuracy: 0.8364\n",
            "Epoch 13/100\n",
            "375/375 [==============================] - 1s 3ms/step - loss: 0.4694 - accuracy: 0.8403 - val_loss: 0.4738 - val_accuracy: 0.8385\n",
            "Epoch 14/100\n",
            "375/375 [==============================] - 1s 3ms/step - loss: 0.4621 - accuracy: 0.8435 - val_loss: 0.4722 - val_accuracy: 0.8354\n",
            "Epoch 15/100\n",
            "375/375 [==============================] - 1s 3ms/step - loss: 0.4570 - accuracy: 0.8448 - val_loss: 0.4629 - val_accuracy: 0.8389\n",
            "Epoch 16/100\n",
            "375/375 [==============================] - 1s 3ms/step - loss: 0.4514 - accuracy: 0.8458 - val_loss: 0.4606 - val_accuracy: 0.8419\n",
            "Epoch 17/100\n",
            "375/375 [==============================] - 1s 3ms/step - loss: 0.4463 - accuracy: 0.8469 - val_loss: 0.4546 - val_accuracy: 0.8404\n",
            "Epoch 18/100\n",
            "375/375 [==============================] - 1s 3ms/step - loss: 0.4419 - accuracy: 0.8497 - val_loss: 0.4500 - val_accuracy: 0.8429\n",
            "Epoch 19/100\n",
            "375/375 [==============================] - 1s 3ms/step - loss: 0.4375 - accuracy: 0.8506 - val_loss: 0.4494 - val_accuracy: 0.8430\n",
            "Epoch 20/100\n",
            "375/375 [==============================] - 1s 3ms/step - loss: 0.4334 - accuracy: 0.8518 - val_loss: 0.4449 - val_accuracy: 0.8441\n",
            "Epoch 21/100\n",
            "375/375 [==============================] - 1s 3ms/step - loss: 0.4291 - accuracy: 0.8526 - val_loss: 0.4452 - val_accuracy: 0.8428\n",
            "Epoch 22/100\n",
            "375/375 [==============================] - 1s 3ms/step - loss: 0.4254 - accuracy: 0.8546 - val_loss: 0.4408 - val_accuracy: 0.8481\n",
            "Epoch 23/100\n",
            "375/375 [==============================] - 1s 3ms/step - loss: 0.4226 - accuracy: 0.8556 - val_loss: 0.4351 - val_accuracy: 0.8490\n",
            "Epoch 24/100\n",
            "375/375 [==============================] - 1s 3ms/step - loss: 0.4190 - accuracy: 0.8568 - val_loss: 0.4321 - val_accuracy: 0.8497\n",
            "Epoch 25/100\n",
            "375/375 [==============================] - 1s 3ms/step - loss: 0.4158 - accuracy: 0.8575 - val_loss: 0.4292 - val_accuracy: 0.8501\n",
            "Epoch 26/100\n",
            "375/375 [==============================] - 1s 3ms/step - loss: 0.4129 - accuracy: 0.8596 - val_loss: 0.4261 - val_accuracy: 0.8512\n",
            "Epoch 27/100\n",
            "375/375 [==============================] - 1s 3ms/step - loss: 0.4101 - accuracy: 0.8597 - val_loss: 0.4257 - val_accuracy: 0.8528\n",
            "Epoch 28/100\n",
            "375/375 [==============================] - 1s 3ms/step - loss: 0.4070 - accuracy: 0.8603 - val_loss: 0.4229 - val_accuracy: 0.8540\n",
            "Epoch 29/100\n",
            "375/375 [==============================] - 1s 3ms/step - loss: 0.4045 - accuracy: 0.8616 - val_loss: 0.4206 - val_accuracy: 0.8522\n",
            "Epoch 30/100\n",
            "375/375 [==============================] - 1s 3ms/step - loss: 0.4020 - accuracy: 0.8621 - val_loss: 0.4261 - val_accuracy: 0.8525\n",
            "Epoch 31/100\n",
            "375/375 [==============================] - 1s 3ms/step - loss: 0.3997 - accuracy: 0.8629 - val_loss: 0.4193 - val_accuracy: 0.8558\n",
            "Epoch 32/100\n",
            "375/375 [==============================] - 1s 3ms/step - loss: 0.3975 - accuracy: 0.8638 - val_loss: 0.4134 - val_accuracy: 0.8575\n",
            "Epoch 33/100\n",
            "375/375 [==============================] - 1s 3ms/step - loss: 0.3954 - accuracy: 0.8640 - val_loss: 0.4146 - val_accuracy: 0.8575\n",
            "Epoch 34/100\n",
            "375/375 [==============================] - 1s 3ms/step - loss: 0.3928 - accuracy: 0.8660 - val_loss: 0.4093 - val_accuracy: 0.8583\n",
            "Epoch 35/100\n",
            "375/375 [==============================] - 1s 3ms/step - loss: 0.3905 - accuracy: 0.8663 - val_loss: 0.4103 - val_accuracy: 0.8587\n",
            "Epoch 36/100\n",
            "375/375 [==============================] - 1s 3ms/step - loss: 0.3888 - accuracy: 0.8669 - val_loss: 0.4103 - val_accuracy: 0.8569\n",
            "Epoch 37/100\n",
            "375/375 [==============================] - 1s 3ms/step - loss: 0.3866 - accuracy: 0.8673 - val_loss: 0.4076 - val_accuracy: 0.8584\n",
            "Epoch 38/100\n",
            "375/375 [==============================] - 1s 3ms/step - loss: 0.3851 - accuracy: 0.8675 - val_loss: 0.4100 - val_accuracy: 0.8580\n",
            "Epoch 39/100\n",
            "375/375 [==============================] - 1s 3ms/step - loss: 0.3830 - accuracy: 0.8684 - val_loss: 0.4015 - val_accuracy: 0.8627\n",
            "Epoch 40/100\n",
            "375/375 [==============================] - 1s 3ms/step - loss: 0.3812 - accuracy: 0.8686 - val_loss: 0.4005 - val_accuracy: 0.8608\n",
            "Epoch 41/100\n",
            "375/375 [==============================] - 1s 3ms/step - loss: 0.3794 - accuracy: 0.8693 - val_loss: 0.4013 - val_accuracy: 0.8606\n",
            "Epoch 42/100\n",
            "375/375 [==============================] - 1s 3ms/step - loss: 0.3774 - accuracy: 0.8707 - val_loss: 0.4110 - val_accuracy: 0.8572\n",
            "Epoch 43/100\n",
            "375/375 [==============================] - 1s 3ms/step - loss: 0.3760 - accuracy: 0.8712 - val_loss: 0.4016 - val_accuracy: 0.8627\n",
            "Epoch 44/100\n",
            "375/375 [==============================] - 1s 3ms/step - loss: 0.3739 - accuracy: 0.8715 - val_loss: 0.4029 - val_accuracy: 0.8623\n",
            "Epoch 45/100\n",
            "375/375 [==============================] - 1s 3ms/step - loss: 0.3723 - accuracy: 0.8720 - val_loss: 0.4027 - val_accuracy: 0.8578\n",
            "Epoch 46/100\n",
            "375/375 [==============================] - 1s 3ms/step - loss: 0.3711 - accuracy: 0.8730 - val_loss: 0.3973 - val_accuracy: 0.8612\n",
            "Epoch 47/100\n",
            "375/375 [==============================] - 1s 3ms/step - loss: 0.3697 - accuracy: 0.8727 - val_loss: 0.3934 - val_accuracy: 0.8636\n",
            "Epoch 48/100\n",
            "375/375 [==============================] - 1s 3ms/step - loss: 0.3679 - accuracy: 0.8744 - val_loss: 0.3929 - val_accuracy: 0.8654\n",
            "Epoch 49/100\n",
            "375/375 [==============================] - 1s 3ms/step - loss: 0.3665 - accuracy: 0.8744 - val_loss: 0.3906 - val_accuracy: 0.8661\n",
            "Epoch 50/100\n",
            "375/375 [==============================] - 1s 3ms/step - loss: 0.3648 - accuracy: 0.8749 - val_loss: 0.3918 - val_accuracy: 0.8630\n",
            "Epoch 51/100\n",
            "375/375 [==============================] - 1s 3ms/step - loss: 0.3637 - accuracy: 0.8751 - val_loss: 0.3938 - val_accuracy: 0.8626\n",
            "Epoch 52/100\n",
            "375/375 [==============================] - 1s 3ms/step - loss: 0.3623 - accuracy: 0.8761 - val_loss: 0.3886 - val_accuracy: 0.8655\n",
            "Epoch 53/100\n",
            "375/375 [==============================] - 1s 3ms/step - loss: 0.3616 - accuracy: 0.8764 - val_loss: 0.3906 - val_accuracy: 0.8634\n",
            "Epoch 54/100\n",
            "375/375 [==============================] - 1s 3ms/step - loss: 0.3594 - accuracy: 0.8757 - val_loss: 0.3866 - val_accuracy: 0.8676\n",
            "Epoch 55/100\n",
            "375/375 [==============================] - 1s 3ms/step - loss: 0.3581 - accuracy: 0.8766 - val_loss: 0.3878 - val_accuracy: 0.8669\n",
            "Epoch 56/100\n",
            "375/375 [==============================] - 1s 3ms/step - loss: 0.3569 - accuracy: 0.8771 - val_loss: 0.3850 - val_accuracy: 0.8671\n",
            "Epoch 57/100\n",
            "375/375 [==============================] - 1s 3ms/step - loss: 0.3558 - accuracy: 0.8775 - val_loss: 0.3838 - val_accuracy: 0.8677\n",
            "Epoch 58/100\n",
            "375/375 [==============================] - 1s 3ms/step - loss: 0.3545 - accuracy: 0.8777 - val_loss: 0.3842 - val_accuracy: 0.8670\n",
            "Epoch 59/100\n",
            "375/375 [==============================] - 1s 3ms/step - loss: 0.3534 - accuracy: 0.8788 - val_loss: 0.3820 - val_accuracy: 0.8678\n",
            "Epoch 60/100\n",
            "375/375 [==============================] - 1s 3ms/step - loss: 0.3524 - accuracy: 0.8783 - val_loss: 0.3806 - val_accuracy: 0.8693\n",
            "Epoch 61/100\n",
            "375/375 [==============================] - 1s 3ms/step - loss: 0.3510 - accuracy: 0.8797 - val_loss: 0.3803 - val_accuracy: 0.8681\n",
            "Epoch 62/100\n",
            "375/375 [==============================] - 1s 3ms/step - loss: 0.3499 - accuracy: 0.8790 - val_loss: 0.3825 - val_accuracy: 0.8680\n",
            "Epoch 63/100\n",
            "375/375 [==============================] - 1s 3ms/step - loss: 0.3489 - accuracy: 0.8792 - val_loss: 0.3835 - val_accuracy: 0.8681\n",
            "Epoch 64/100\n",
            "375/375 [==============================] - 1s 3ms/step - loss: 0.3472 - accuracy: 0.8797 - val_loss: 0.3788 - val_accuracy: 0.8673\n",
            "Epoch 65/100\n",
            "375/375 [==============================] - 1s 3ms/step - loss: 0.3466 - accuracy: 0.8803 - val_loss: 0.3794 - val_accuracy: 0.8692\n",
            "Epoch 66/100\n",
            "375/375 [==============================] - 1s 3ms/step - loss: 0.3457 - accuracy: 0.8808 - val_loss: 0.3788 - val_accuracy: 0.8698\n",
            "Epoch 67/100\n",
            "375/375 [==============================] - 1s 3ms/step - loss: 0.3442 - accuracy: 0.8816 - val_loss: 0.3775 - val_accuracy: 0.8701\n",
            "Epoch 68/100\n",
            "375/375 [==============================] - 1s 3ms/step - loss: 0.3431 - accuracy: 0.8816 - val_loss: 0.3751 - val_accuracy: 0.8707\n",
            "Epoch 69/100\n",
            "375/375 [==============================] - 1s 3ms/step - loss: 0.3424 - accuracy: 0.8821 - val_loss: 0.3768 - val_accuracy: 0.8707\n",
            "Epoch 70/100\n",
            "375/375 [==============================] - 1s 3ms/step - loss: 0.3413 - accuracy: 0.8822 - val_loss: 0.3746 - val_accuracy: 0.8701\n",
            "Epoch 71/100\n",
            "375/375 [==============================] - 1s 3ms/step - loss: 0.3403 - accuracy: 0.8821 - val_loss: 0.3760 - val_accuracy: 0.8702\n",
            "Epoch 72/100\n",
            "375/375 [==============================] - 1s 3ms/step - loss: 0.3390 - accuracy: 0.8820 - val_loss: 0.3753 - val_accuracy: 0.8716\n",
            "Epoch 73/100\n",
            "375/375 [==============================] - 1s 3ms/step - loss: 0.3383 - accuracy: 0.8829 - val_loss: 0.3720 - val_accuracy: 0.8710\n",
            "Epoch 74/100\n",
            "375/375 [==============================] - 1s 3ms/step - loss: 0.3371 - accuracy: 0.8833 - val_loss: 0.3785 - val_accuracy: 0.8692\n",
            "Epoch 75/100\n",
            "375/375 [==============================] - 1s 3ms/step - loss: 0.3365 - accuracy: 0.8831 - val_loss: 0.3726 - val_accuracy: 0.8722\n",
            "Epoch 76/100\n",
            "375/375 [==============================] - 1s 3ms/step - loss: 0.3353 - accuracy: 0.8837 - val_loss: 0.3760 - val_accuracy: 0.8682\n",
            "Epoch 77/100\n",
            "375/375 [==============================] - 1s 3ms/step - loss: 0.3347 - accuracy: 0.8838 - val_loss: 0.3706 - val_accuracy: 0.8730\n",
            "Epoch 78/100\n",
            "375/375 [==============================] - 1s 3ms/step - loss: 0.3333 - accuracy: 0.8841 - val_loss: 0.3698 - val_accuracy: 0.8734\n",
            "Epoch 79/100\n",
            "375/375 [==============================] - 1s 3ms/step - loss: 0.3327 - accuracy: 0.8845 - val_loss: 0.3691 - val_accuracy: 0.8727\n",
            "Epoch 80/100\n",
            "375/375 [==============================] - 1s 3ms/step - loss: 0.3316 - accuracy: 0.8851 - val_loss: 0.3700 - val_accuracy: 0.8728\n",
            "Epoch 81/100\n",
            "375/375 [==============================] - 1s 3ms/step - loss: 0.3310 - accuracy: 0.8845 - val_loss: 0.3706 - val_accuracy: 0.8729\n",
            "Epoch 82/100\n",
            "375/375 [==============================] - 1s 3ms/step - loss: 0.3297 - accuracy: 0.8858 - val_loss: 0.3701 - val_accuracy: 0.8721\n",
            "Epoch 83/100\n",
            "375/375 [==============================] - 1s 3ms/step - loss: 0.3290 - accuracy: 0.8859 - val_loss: 0.3680 - val_accuracy: 0.8738\n",
            "Epoch 84/100\n",
            "375/375 [==============================] - 1s 3ms/step - loss: 0.3280 - accuracy: 0.8854 - val_loss: 0.3682 - val_accuracy: 0.8722\n",
            "Epoch 85/100\n",
            "375/375 [==============================] - 1s 3ms/step - loss: 0.3274 - accuracy: 0.8855 - val_loss: 0.3667 - val_accuracy: 0.8728\n",
            "Epoch 86/100\n",
            "375/375 [==============================] - 1s 3ms/step - loss: 0.3269 - accuracy: 0.8861 - val_loss: 0.3654 - val_accuracy: 0.8752\n",
            "Epoch 87/100\n",
            "375/375 [==============================] - 1s 3ms/step - loss: 0.3254 - accuracy: 0.8870 - val_loss: 0.3701 - val_accuracy: 0.8721\n",
            "Epoch 88/100\n",
            "375/375 [==============================] - 1s 3ms/step - loss: 0.3248 - accuracy: 0.8877 - val_loss: 0.3656 - val_accuracy: 0.8723\n",
            "Epoch 89/100\n",
            "375/375 [==============================] - 1s 3ms/step - loss: 0.3242 - accuracy: 0.8868 - val_loss: 0.3666 - val_accuracy: 0.8732\n",
            "Epoch 90/100\n",
            "375/375 [==============================] - 1s 3ms/step - loss: 0.3235 - accuracy: 0.8869 - val_loss: 0.3723 - val_accuracy: 0.8699\n",
            "Epoch 91/100\n",
            "375/375 [==============================] - 1s 3ms/step - loss: 0.3228 - accuracy: 0.8873 - val_loss: 0.3671 - val_accuracy: 0.8735\n",
            "Epoch 92/100\n",
            "375/375 [==============================] - 1s 3ms/step - loss: 0.3216 - accuracy: 0.8873 - val_loss: 0.3642 - val_accuracy: 0.8742\n",
            "Epoch 93/100\n",
            "375/375 [==============================] - 1s 3ms/step - loss: 0.3206 - accuracy: 0.8880 - val_loss: 0.3633 - val_accuracy: 0.8741\n",
            "Epoch 94/100\n",
            "375/375 [==============================] - 1s 3ms/step - loss: 0.3199 - accuracy: 0.8892 - val_loss: 0.3634 - val_accuracy: 0.8745\n",
            "Epoch 95/100\n",
            "375/375 [==============================] - 1s 3ms/step - loss: 0.3189 - accuracy: 0.8879 - val_loss: 0.3640 - val_accuracy: 0.8749\n",
            "Epoch 96/100\n",
            "375/375 [==============================] - 1s 3ms/step - loss: 0.3180 - accuracy: 0.8892 - val_loss: 0.3656 - val_accuracy: 0.8718\n",
            "Epoch 97/100\n",
            "375/375 [==============================] - 1s 3ms/step - loss: 0.3170 - accuracy: 0.8887 - val_loss: 0.3628 - val_accuracy: 0.8751\n",
            "Epoch 98/100\n",
            "375/375 [==============================] - 1s 3ms/step - loss: 0.3165 - accuracy: 0.8889 - val_loss: 0.3614 - val_accuracy: 0.8768\n",
            "Epoch 99/100\n",
            "375/375 [==============================] - 1s 3ms/step - loss: 0.3161 - accuracy: 0.8893 - val_loss: 0.3667 - val_accuracy: 0.8733\n",
            "Epoch 100/100\n",
            "375/375 [==============================] - 1s 3ms/step - loss: 0.3150 - accuracy: 0.8895 - val_loss: 0.3599 - val_accuracy: 0.8760\n"
          ]
        }
      ]
    },
    {
      "cell_type": "code",
      "metadata": {
        "id": "w7GFFCeM4kVp"
      },
      "source": [
        "%tensorboard --logdir logs/fit"
      ],
      "execution_count": null,
      "outputs": []
    }
  ]
}