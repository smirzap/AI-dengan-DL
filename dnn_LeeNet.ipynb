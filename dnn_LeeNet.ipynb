{
  "nbformat": 4,
  "nbformat_minor": 0,
  "metadata": {
    "colab": {
      "provenance": [],
      "toc_visible": true,
      "authorship_tag": "ABX9TyMyyyZje5UoqGdm8LQU10pj",
      "include_colab_link": true
    },
    "kernelspec": {
      "name": "python3",
      "display_name": "Python 3"
    },
    "language_info": {
      "name": "python"
    },
    "accelerator": "GPU"
  },
  "cells": [
    {
      "cell_type": "markdown",
      "metadata": {
        "id": "view-in-github",
        "colab_type": "text"
      },
      "source": [
        "<a href=\"https://colab.research.google.com/github/smirzap/AI-dengan-DL/blob/main/dnn_LeeNet.ipynb\" target=\"_parent\"><img src=\"https://colab.research.google.com/assets/colab-badge.svg\" alt=\"Open In Colab\"/></a>"
      ]
    },
    {
      "cell_type": "code",
      "execution_count": null,
      "metadata": {
        "id": "a2DMuBe2T-cl"
      },
      "outputs": [],
      "source": [
        "import tensorflow as tf\n",
        "from tensorflow import keras\n",
        "%load_ext tensorboard\n",
        "import datetime\n",
        "\n",
        "# Hapus semua rekaman data dari eksekusi sebelumnya\n",
        "!rm -rf ./logs/"
      ]
    },
    {
      "cell_type": "code",
      "source": [
        "mnist=keras.datasets.mnist\n",
        "(X_train, y_train), (X_test, y_test) = mnist.load_data()\n"
      ],
      "metadata": {
        "id": "wROHneiGUPpB"
      },
      "execution_count": null,
      "outputs": []
    },
    {
      "cell_type": "code",
      "source": [
        "Xtrain, Xtest = Xtrain/255.0, Xtest/255.0\n",
        "\n",
        "\n",
        "log_dir = \"DNN/\"\n",
        "tensorboard_callback = tf.keras.callbacks.TensorBoard(log_dir=log_dir, histogram_freq=1)\n",
        "\n",
        "# DNN with two hidden layers, ADAM Optimizer, Regulation Dropout\n",
        "model = keras.models.Sequential()\n",
        "model.add(keras.layers.Flatten(input_shape=[28, 28]))\n",
        "model.add(keras.layers.Dropout(0.3))\n",
        "model.add(keras.layers.Dense(128, activation='relu'))\n",
        "model.add(keras.layers.Dropout(0.3))\n",
        "model.add(keras.layers.Dense(128, activation='relu'))\n",
        "model.add(keras.layers.Dropout(0.3))\n",
        "model.add(keras.layers.Dense(10, activation='softmax'))\n",
        "model.compile(loss='sparse_categorical_crossentropy', optimizer='Adam', metrics=['accuracy'])\n",
        "\n",
        "model.summary()\n",
        "\n",
        "history = model.fit(X_train, y_train, epochs=50, validation_split=0.2, batch_size=128, callbacks=[tensorboard_callback])"
      ],
      "metadata": {
        "colab": {
          "base_uri": "https://localhost:8080/"
        },
        "id": "cLzbe2IqUrX5",
        "outputId": "74f41e45-9336-4ffd-c2c8-4635803cdaaf"
      },
      "execution_count": null,
      "outputs": [
        {
          "output_type": "stream",
          "name": "stdout",
          "text": [
            "Model: \"sequential\"\n",
            "_________________________________________________________________\n",
            " Layer (type)                Output Shape              Param #   \n",
            "=================================================================\n",
            " flatten (Flatten)           (None, 784)               0         \n",
            "                                                                 \n",
            " dropout (Dropout)           (None, 784)               0         \n",
            "                                                                 \n",
            " dense (Dense)               (None, 128)               100480    \n",
            "                                                                 \n",
            " dropout_1 (Dropout)         (None, 128)               0         \n",
            "                                                                 \n",
            " dense_1 (Dense)             (None, 128)               16512     \n",
            "                                                                 \n",
            " dropout_2 (Dropout)         (None, 128)               0         \n",
            "                                                                 \n",
            " dense_2 (Dense)             (None, 10)                1290      \n",
            "                                                                 \n",
            "=================================================================\n",
            "Total params: 118,282\n",
            "Trainable params: 118,282\n",
            "Non-trainable params: 0\n",
            "_________________________________________________________________\n",
            "Epoch 1/50\n",
            "375/375 [==============================] - 4s 4ms/step - loss: 1.4791 - accuracy: 0.5242 - val_loss: 0.7538 - val_accuracy: 0.7848\n",
            "Epoch 2/50\n",
            "375/375 [==============================] - 1s 3ms/step - loss: 0.7559 - accuracy: 0.7573 - val_loss: 0.4835 - val_accuracy: 0.8670\n",
            "Epoch 3/50\n",
            "375/375 [==============================] - 1s 3ms/step - loss: 0.5815 - accuracy: 0.8173 - val_loss: 0.3832 - val_accuracy: 0.8922\n",
            "Epoch 4/50\n",
            "375/375 [==============================] - 1s 4ms/step - loss: 0.5052 - accuracy: 0.8419 - val_loss: 0.3328 - val_accuracy: 0.9044\n",
            "Epoch 5/50\n",
            "375/375 [==============================] - 1s 3ms/step - loss: 0.4589 - accuracy: 0.8597 - val_loss: 0.2966 - val_accuracy: 0.9138\n",
            "Epoch 6/50\n",
            "375/375 [==============================] - 1s 4ms/step - loss: 0.4213 - accuracy: 0.8711 - val_loss: 0.2749 - val_accuracy: 0.9209\n",
            "Epoch 7/50\n",
            "375/375 [==============================] - 1s 3ms/step - loss: 0.3969 - accuracy: 0.8772 - val_loss: 0.2538 - val_accuracy: 0.9268\n",
            "Epoch 8/50\n",
            "375/375 [==============================] - 1s 3ms/step - loss: 0.3725 - accuracy: 0.8855 - val_loss: 0.2374 - val_accuracy: 0.9299\n",
            "Epoch 9/50\n",
            "375/375 [==============================] - 1s 4ms/step - loss: 0.3534 - accuracy: 0.8914 - val_loss: 0.2223 - val_accuracy: 0.9356\n",
            "Epoch 10/50\n",
            "375/375 [==============================] - 1s 3ms/step - loss: 0.3352 - accuracy: 0.8980 - val_loss: 0.2126 - val_accuracy: 0.9387\n",
            "Epoch 11/50\n",
            "375/375 [==============================] - 1s 3ms/step - loss: 0.3215 - accuracy: 0.9031 - val_loss: 0.1982 - val_accuracy: 0.9417\n",
            "Epoch 12/50\n",
            "375/375 [==============================] - 1s 3ms/step - loss: 0.3078 - accuracy: 0.9057 - val_loss: 0.1878 - val_accuracy: 0.9447\n",
            "Epoch 13/50\n",
            "375/375 [==============================] - 1s 3ms/step - loss: 0.2932 - accuracy: 0.9106 - val_loss: 0.1769 - val_accuracy: 0.9477\n",
            "Epoch 14/50\n",
            "375/375 [==============================] - 1s 3ms/step - loss: 0.2862 - accuracy: 0.9144 - val_loss: 0.1731 - val_accuracy: 0.9488\n",
            "Epoch 15/50\n",
            "375/375 [==============================] - 1s 3ms/step - loss: 0.2748 - accuracy: 0.9160 - val_loss: 0.1650 - val_accuracy: 0.9508\n",
            "Epoch 16/50\n",
            "375/375 [==============================] - 1s 3ms/step - loss: 0.2637 - accuracy: 0.9192 - val_loss: 0.1587 - val_accuracy: 0.9527\n",
            "Epoch 17/50\n",
            "375/375 [==============================] - 1s 3ms/step - loss: 0.2593 - accuracy: 0.9221 - val_loss: 0.1537 - val_accuracy: 0.9544\n",
            "Epoch 18/50\n",
            "375/375 [==============================] - 1s 3ms/step - loss: 0.2490 - accuracy: 0.9242 - val_loss: 0.1467 - val_accuracy: 0.9568\n",
            "Epoch 19/50\n",
            "375/375 [==============================] - 1s 3ms/step - loss: 0.2395 - accuracy: 0.9266 - val_loss: 0.1458 - val_accuracy: 0.9569\n",
            "Epoch 20/50\n",
            "375/375 [==============================] - 1s 3ms/step - loss: 0.2358 - accuracy: 0.9283 - val_loss: 0.1397 - val_accuracy: 0.9592\n",
            "Epoch 21/50\n",
            "375/375 [==============================] - 1s 3ms/step - loss: 0.2289 - accuracy: 0.9302 - val_loss: 0.1357 - val_accuracy: 0.9605\n",
            "Epoch 22/50\n",
            "375/375 [==============================] - 1s 3ms/step - loss: 0.2215 - accuracy: 0.9316 - val_loss: 0.1331 - val_accuracy: 0.9593\n",
            "Epoch 23/50\n",
            "375/375 [==============================] - 1s 3ms/step - loss: 0.2196 - accuracy: 0.9327 - val_loss: 0.1288 - val_accuracy: 0.9611\n",
            "Epoch 24/50\n",
            "375/375 [==============================] - 1s 3ms/step - loss: 0.2154 - accuracy: 0.9344 - val_loss: 0.1269 - val_accuracy: 0.9622\n",
            "Epoch 25/50\n",
            "375/375 [==============================] - 1s 3ms/step - loss: 0.2118 - accuracy: 0.9344 - val_loss: 0.1265 - val_accuracy: 0.9617\n",
            "Epoch 26/50\n",
            "375/375 [==============================] - 1s 3ms/step - loss: 0.2076 - accuracy: 0.9364 - val_loss: 0.1220 - val_accuracy: 0.9637\n",
            "Epoch 27/50\n",
            "375/375 [==============================] - 1s 4ms/step - loss: 0.2064 - accuracy: 0.9356 - val_loss: 0.1210 - val_accuracy: 0.9633\n",
            "Epoch 28/50\n",
            "375/375 [==============================] - 1s 3ms/step - loss: 0.2017 - accuracy: 0.9377 - val_loss: 0.1184 - val_accuracy: 0.9639\n",
            "Epoch 29/50\n",
            "375/375 [==============================] - 1s 3ms/step - loss: 0.1975 - accuracy: 0.9406 - val_loss: 0.1148 - val_accuracy: 0.9653\n",
            "Epoch 30/50\n",
            "375/375 [==============================] - 1s 3ms/step - loss: 0.1964 - accuracy: 0.9400 - val_loss: 0.1151 - val_accuracy: 0.9647\n",
            "Epoch 31/50\n",
            "375/375 [==============================] - 1s 3ms/step - loss: 0.1898 - accuracy: 0.9413 - val_loss: 0.1119 - val_accuracy: 0.9662\n",
            "Epoch 32/50\n",
            "375/375 [==============================] - 1s 3ms/step - loss: 0.1869 - accuracy: 0.9421 - val_loss: 0.1109 - val_accuracy: 0.9657\n",
            "Epoch 33/50\n",
            "375/375 [==============================] - 1s 3ms/step - loss: 0.1842 - accuracy: 0.9433 - val_loss: 0.1077 - val_accuracy: 0.9677\n",
            "Epoch 34/50\n",
            "375/375 [==============================] - 1s 3ms/step - loss: 0.1821 - accuracy: 0.9444 - val_loss: 0.1096 - val_accuracy: 0.9670\n",
            "Epoch 35/50\n",
            "375/375 [==============================] - 1s 3ms/step - loss: 0.1808 - accuracy: 0.9438 - val_loss: 0.1066 - val_accuracy: 0.9671\n",
            "Epoch 36/50\n",
            "375/375 [==============================] - 1s 3ms/step - loss: 0.1761 - accuracy: 0.9461 - val_loss: 0.1051 - val_accuracy: 0.9676\n",
            "Epoch 37/50\n",
            "375/375 [==============================] - 1s 3ms/step - loss: 0.1746 - accuracy: 0.9455 - val_loss: 0.1023 - val_accuracy: 0.9698\n",
            "Epoch 38/50\n",
            "375/375 [==============================] - 1s 3ms/step - loss: 0.1752 - accuracy: 0.9456 - val_loss: 0.1021 - val_accuracy: 0.9697\n",
            "Epoch 39/50\n",
            "375/375 [==============================] - 1s 3ms/step - loss: 0.1687 - accuracy: 0.9470 - val_loss: 0.1007 - val_accuracy: 0.9681\n",
            "Epoch 40/50\n",
            "375/375 [==============================] - 1s 3ms/step - loss: 0.1702 - accuracy: 0.9478 - val_loss: 0.0987 - val_accuracy: 0.9711\n",
            "Epoch 41/50\n",
            "375/375 [==============================] - 1s 3ms/step - loss: 0.1678 - accuracy: 0.9466 - val_loss: 0.0985 - val_accuracy: 0.9715\n",
            "Epoch 42/50\n",
            "375/375 [==============================] - 1s 3ms/step - loss: 0.1684 - accuracy: 0.9472 - val_loss: 0.0968 - val_accuracy: 0.9704\n",
            "Epoch 43/50\n",
            "375/375 [==============================] - 1s 3ms/step - loss: 0.1632 - accuracy: 0.9499 - val_loss: 0.0975 - val_accuracy: 0.9708\n",
            "Epoch 44/50\n",
            "375/375 [==============================] - 1s 4ms/step - loss: 0.1645 - accuracy: 0.9486 - val_loss: 0.0971 - val_accuracy: 0.9700\n",
            "Epoch 45/50\n",
            "375/375 [==============================] - 1s 3ms/step - loss: 0.1628 - accuracy: 0.9498 - val_loss: 0.0948 - val_accuracy: 0.9722\n",
            "Epoch 46/50\n",
            "375/375 [==============================] - 1s 3ms/step - loss: 0.1607 - accuracy: 0.9497 - val_loss: 0.0953 - val_accuracy: 0.9704\n",
            "Epoch 47/50\n",
            "375/375 [==============================] - 1s 3ms/step - loss: 0.1588 - accuracy: 0.9503 - val_loss: 0.0932 - val_accuracy: 0.9730\n",
            "Epoch 48/50\n",
            "375/375 [==============================] - 1s 4ms/step - loss: 0.1587 - accuracy: 0.9506 - val_loss: 0.0954 - val_accuracy: 0.9705\n",
            "Epoch 49/50\n",
            "375/375 [==============================] - 1s 3ms/step - loss: 0.1521 - accuracy: 0.9523 - val_loss: 0.0926 - val_accuracy: 0.9731\n",
            "Epoch 50/50\n",
            "375/375 [==============================] - 1s 3ms/step - loss: 0.1528 - accuracy: 0.9517 - val_loss: 0.0960 - val_accuracy: 0.9703\n"
          ]
        }
      ]
    },
    {
      "cell_type": "code",
      "source": [
        "model.evaluate(Xtest, ytest)"
      ],
      "metadata": {
        "colab": {
          "base_uri": "https://localhost:8080/"
        },
        "id": "YxL16DFYWVAY",
        "outputId": "6294a1cf-5616-461c-988c-1dca1f65bc1e"
      },
      "execution_count": null,
      "outputs": [
        {
          "output_type": "stream",
          "name": "stdout",
          "text": [
            "313/313 [==============================] - 1s 2ms/step - loss: 0.0929 - accuracy: 0.9711\n"
          ]
        },
        {
          "output_type": "execute_result",
          "data": {
            "text/plain": [
              "[0.09285566955804825, 0.9710999727249146]"
            ]
          },
          "metadata": {},
          "execution_count": 6
        }
      ]
    },
    {
      "cell_type": "code",
      "source": [
        "Xtrain.shape"
      ],
      "metadata": {
        "colab": {
          "base_uri": "https://localhost:8080/"
        },
        "id": "GkzTor3Jb0KY",
        "outputId": "956df90a-c64b-4563-9653-6cb3bd4331e4"
      },
      "execution_count": null,
      "outputs": [
        {
          "output_type": "execute_result",
          "data": {
            "text/plain": [
              "TensorShape([60000, 32, 32, 1])"
            ]
          },
          "metadata": {},
          "execution_count": 10
        }
      ]
    },
    {
      "cell_type": "code",
      "source": [
        "mnist=keras.datasets.mnist\n",
        "(Xtrain, ytrain), (Xtest, ytest) = mnist.load_data()\n",
        "\n",
        "Xtrain = tf.pad(Xtrain, [[0, 0], [2,2], [2,2]])/255\n",
        "Xtest = tf.pad(Xtest, [[0, 0], [2,2], [2,2]])/255\n",
        "Xtrain.shape\n",
        "tf.TensorShape([60000, 32, 32])\n",
        "\n",
        "Xtrain = tf.expand_dims(Xtrain, axis=3, name=None)\n",
        "Xtest = tf.expand_dims(Xtest, axis=3, name=None)\n",
        "Xtrain.shape\n",
        "tf.TensorShape([60000, 32, 32, 1])\n",
        "\n",
        "log_dir = \"LeNet-5/\"\n",
        "tensorboard_callback2 = tf.keras.callbacks.TensorBoard(log_dir=log_dir, histogram_freq=1)"
      ],
      "metadata": {
        "id": "sQdyJqtnbfKq"
      },
      "execution_count": null,
      "outputs": []
    },
    {
      "cell_type": "code",
      "source": [
        "model = keras.models.Sequential()\n",
        "model.add(keras.layers.Conv2D(filters=6, kernel_size=(5,5), activation='tanh', input_shape=(32,32,1)))\n",
        "model.add(keras.layers.AveragePooling2D(pool_size =(2, 2), strides =(2, 2)))\n",
        "model.add(keras.layers.Conv2D(filters=16, kernel_size=(5,5), activation='tanh'))\n",
        "model.add(keras.layers.AveragePooling2D(pool_size =(2, 2), strides =(2, 2)))\n",
        "model.add(keras.layers.Flatten())\n",
        "model.add(keras.layers.Dense(units=120, activation='tanh'))\n",
        "model.add(keras.layers.Dense(units=84, activation='tanh'))\n",
        "model.add(keras.layers.Dense(units=10, activation = 'softmax'))\n",
        "model.compile(loss='sparse_categorical_crossentropy', optimizer='Adam', metrics=['accuracy'])\n",
        "model.summary()\n",
        "\n",
        "history = model.fit(Xtrain, ytrain, epochs=50, validation_split=0.2, batch_size=128, callbacks=[tensorboard_callback2])"
      ],
      "metadata": {
        "colab": {
          "base_uri": "https://localhost:8080/"
        },
        "id": "cPdOUZ0jVNqH",
        "outputId": "ba46baf7-2607-47d5-d74a-0575cce11c44"
      },
      "execution_count": null,
      "outputs": [
        {
          "output_type": "stream",
          "name": "stdout",
          "text": [
            "Model: \"sequential_2\"\n",
            "_________________________________________________________________\n",
            " Layer (type)                Output Shape              Param #   \n",
            "=================================================================\n",
            " conv2d_2 (Conv2D)           (None, 28, 28, 6)         156       \n",
            "                                                                 \n",
            " average_pooling2d_2 (Averag  (None, 14, 14, 6)        0         \n",
            " ePooling2D)                                                     \n",
            "                                                                 \n",
            " conv2d_3 (Conv2D)           (None, 10, 10, 16)        2416      \n",
            "                                                                 \n",
            " average_pooling2d_3 (Averag  (None, 5, 5, 16)         0         \n",
            " ePooling2D)                                                     \n",
            "                                                                 \n",
            " flatten_2 (Flatten)         (None, 400)               0         \n",
            "                                                                 \n",
            " dense_6 (Dense)             (None, 120)               48120     \n",
            "                                                                 \n",
            " dense_7 (Dense)             (None, 84)                10164     \n",
            "                                                                 \n",
            " dense_8 (Dense)             (None, 10)                850       \n",
            "                                                                 \n",
            "=================================================================\n",
            "Total params: 61,706\n",
            "Trainable params: 61,706\n",
            "Non-trainable params: 0\n",
            "_________________________________________________________________\n",
            "Epoch 1/50\n",
            "375/375 [==============================] - 2s 5ms/step - loss: 0.3869 - accuracy: 0.8864 - val_loss: 0.1816 - val_accuracy: 0.9462\n",
            "Epoch 2/50\n",
            "375/375 [==============================] - 2s 4ms/step - loss: 0.1472 - accuracy: 0.9550 - val_loss: 0.1222 - val_accuracy: 0.9636\n",
            "Epoch 3/50\n",
            "375/375 [==============================] - 2s 4ms/step - loss: 0.0988 - accuracy: 0.9708 - val_loss: 0.0922 - val_accuracy: 0.9728\n",
            "Epoch 4/50\n",
            "375/375 [==============================] - 1s 4ms/step - loss: 0.0744 - accuracy: 0.9767 - val_loss: 0.0783 - val_accuracy: 0.9762\n",
            "Epoch 5/50\n",
            "375/375 [==============================] - 2s 4ms/step - loss: 0.0576 - accuracy: 0.9828 - val_loss: 0.0758 - val_accuracy: 0.9778\n",
            "Epoch 6/50\n",
            "375/375 [==============================] - 2s 4ms/step - loss: 0.0470 - accuracy: 0.9854 - val_loss: 0.0679 - val_accuracy: 0.9793\n",
            "Epoch 7/50\n",
            "375/375 [==============================] - 2s 4ms/step - loss: 0.0384 - accuracy: 0.9883 - val_loss: 0.0654 - val_accuracy: 0.9799\n",
            "Epoch 8/50\n",
            "375/375 [==============================] - 2s 4ms/step - loss: 0.0332 - accuracy: 0.9899 - val_loss: 0.0660 - val_accuracy: 0.9803\n",
            "Epoch 9/50\n",
            "375/375 [==============================] - 2s 4ms/step - loss: 0.0272 - accuracy: 0.9917 - val_loss: 0.0571 - val_accuracy: 0.9818\n",
            "Epoch 10/50\n",
            "375/375 [==============================] - 2s 4ms/step - loss: 0.0228 - accuracy: 0.9931 - val_loss: 0.0573 - val_accuracy: 0.9836\n",
            "Epoch 11/50\n",
            "375/375 [==============================] - 1s 4ms/step - loss: 0.0183 - accuracy: 0.9946 - val_loss: 0.0580 - val_accuracy: 0.9835\n",
            "Epoch 12/50\n",
            "375/375 [==============================] - 1s 4ms/step - loss: 0.0164 - accuracy: 0.9951 - val_loss: 0.0577 - val_accuracy: 0.9840\n",
            "Epoch 13/50\n",
            "375/375 [==============================] - 2s 4ms/step - loss: 0.0141 - accuracy: 0.9959 - val_loss: 0.0611 - val_accuracy: 0.9838\n",
            "Epoch 14/50\n",
            "375/375 [==============================] - 2s 4ms/step - loss: 0.0124 - accuracy: 0.9964 - val_loss: 0.0609 - val_accuracy: 0.9832\n",
            "Epoch 15/50\n",
            "375/375 [==============================] - 2s 4ms/step - loss: 0.0102 - accuracy: 0.9971 - val_loss: 0.0589 - val_accuracy: 0.9846\n",
            "Epoch 16/50\n",
            "375/375 [==============================] - 2s 4ms/step - loss: 0.0089 - accuracy: 0.9974 - val_loss: 0.0593 - val_accuracy: 0.9834\n",
            "Epoch 17/50\n",
            "375/375 [==============================] - 2s 4ms/step - loss: 0.0081 - accuracy: 0.9977 - val_loss: 0.0639 - val_accuracy: 0.9830\n",
            "Epoch 18/50\n",
            "375/375 [==============================] - 2s 4ms/step - loss: 0.0072 - accuracy: 0.9980 - val_loss: 0.0618 - val_accuracy: 0.9838\n",
            "Epoch 19/50\n",
            "375/375 [==============================] - 2s 4ms/step - loss: 0.0081 - accuracy: 0.9976 - val_loss: 0.0696 - val_accuracy: 0.9827\n",
            "Epoch 20/50\n",
            "375/375 [==============================] - 1s 4ms/step - loss: 0.0086 - accuracy: 0.9975 - val_loss: 0.0683 - val_accuracy: 0.9833\n",
            "Epoch 21/50\n",
            "375/375 [==============================] - 1s 4ms/step - loss: 0.0087 - accuracy: 0.9971 - val_loss: 0.0636 - val_accuracy: 0.9841\n",
            "Epoch 22/50\n",
            "375/375 [==============================] - 1s 4ms/step - loss: 0.0044 - accuracy: 0.9988 - val_loss: 0.0680 - val_accuracy: 0.9837\n",
            "Epoch 23/50\n",
            "375/375 [==============================] - 2s 4ms/step - loss: 0.0050 - accuracy: 0.9986 - val_loss: 0.0683 - val_accuracy: 0.9847\n",
            "Epoch 24/50\n",
            "375/375 [==============================] - 2s 4ms/step - loss: 0.0057 - accuracy: 0.9982 - val_loss: 0.0652 - val_accuracy: 0.9854\n",
            "Epoch 25/50\n",
            "375/375 [==============================] - 2s 4ms/step - loss: 0.0020 - accuracy: 0.9997 - val_loss: 0.0612 - val_accuracy: 0.9869\n",
            "Epoch 26/50\n",
            "375/375 [==============================] - 2s 4ms/step - loss: 0.0013 - accuracy: 0.9997 - val_loss: 0.0622 - val_accuracy: 0.9855\n",
            "Epoch 27/50\n",
            "375/375 [==============================] - 2s 4ms/step - loss: 0.0026 - accuracy: 0.9994 - val_loss: 0.0736 - val_accuracy: 0.9843\n",
            "Epoch 28/50\n",
            "375/375 [==============================] - 2s 4ms/step - loss: 0.0151 - accuracy: 0.9948 - val_loss: 0.0783 - val_accuracy: 0.9816\n",
            "Epoch 29/50\n",
            "375/375 [==============================] - 2s 4ms/step - loss: 0.0054 - accuracy: 0.9982 - val_loss: 0.0764 - val_accuracy: 0.9832\n",
            "Epoch 30/50\n",
            "375/375 [==============================] - 2s 4ms/step - loss: 0.0022 - accuracy: 0.9994 - val_loss: 0.0609 - val_accuracy: 0.9868\n",
            "Epoch 31/50\n",
            "375/375 [==============================] - 2s 4ms/step - loss: 0.0013 - accuracy: 0.9997 - val_loss: 0.0810 - val_accuracy: 0.9820\n",
            "Epoch 32/50\n",
            "375/375 [==============================] - 2s 4ms/step - loss: 0.0064 - accuracy: 0.9981 - val_loss: 0.0646 - val_accuracy: 0.9845\n",
            "Epoch 33/50\n",
            "375/375 [==============================] - 2s 4ms/step - loss: 0.0037 - accuracy: 0.9988 - val_loss: 0.0735 - val_accuracy: 0.9838\n",
            "Epoch 34/50\n",
            "375/375 [==============================] - 2s 4ms/step - loss: 0.0026 - accuracy: 0.9991 - val_loss: 0.0694 - val_accuracy: 0.9858\n",
            "Epoch 35/50\n",
            "375/375 [==============================] - 2s 4ms/step - loss: 0.0018 - accuracy: 0.9995 - val_loss: 0.0681 - val_accuracy: 0.9857\n",
            "Epoch 36/50\n",
            "375/375 [==============================] - 2s 4ms/step - loss: 0.0088 - accuracy: 0.9969 - val_loss: 0.0740 - val_accuracy: 0.9834\n",
            "Epoch 37/50\n",
            "375/375 [==============================] - 2s 4ms/step - loss: 0.0045 - accuracy: 0.9984 - val_loss: 0.0670 - val_accuracy: 0.9848\n",
            "Epoch 38/50\n",
            "375/375 [==============================] - 1s 4ms/step - loss: 0.0016 - accuracy: 0.9996 - val_loss: 0.0592 - val_accuracy: 0.9872\n",
            "Epoch 39/50\n",
            "375/375 [==============================] - 2s 4ms/step - loss: 3.4335e-04 - accuracy: 1.0000 - val_loss: 0.0592 - val_accuracy: 0.9873\n",
            "Epoch 40/50\n",
            "375/375 [==============================] - 2s 4ms/step - loss: 1.7161e-04 - accuracy: 1.0000 - val_loss: 0.0594 - val_accuracy: 0.9873\n",
            "Epoch 41/50\n",
            "375/375 [==============================] - 1s 4ms/step - loss: 1.2440e-04 - accuracy: 1.0000 - val_loss: 0.0596 - val_accuracy: 0.9874\n",
            "Epoch 42/50\n",
            "375/375 [==============================] - 1s 4ms/step - loss: 1.0368e-04 - accuracy: 1.0000 - val_loss: 0.0593 - val_accuracy: 0.9877\n",
            "Epoch 43/50\n",
            "375/375 [==============================] - 1s 4ms/step - loss: 8.9079e-05 - accuracy: 1.0000 - val_loss: 0.0597 - val_accuracy: 0.9879\n",
            "Epoch 44/50\n",
            "375/375 [==============================] - 2s 4ms/step - loss: 7.6567e-05 - accuracy: 1.0000 - val_loss: 0.0603 - val_accuracy: 0.9879\n",
            "Epoch 45/50\n",
            "375/375 [==============================] - 2s 4ms/step - loss: 6.6865e-05 - accuracy: 1.0000 - val_loss: 0.0608 - val_accuracy: 0.9879\n",
            "Epoch 46/50\n",
            "375/375 [==============================] - 1s 4ms/step - loss: 5.7643e-05 - accuracy: 1.0000 - val_loss: 0.0608 - val_accuracy: 0.9881\n",
            "Epoch 47/50\n",
            "375/375 [==============================] - 2s 4ms/step - loss: 5.0410e-05 - accuracy: 1.0000 - val_loss: 0.0615 - val_accuracy: 0.9883\n",
            "Epoch 48/50\n",
            "375/375 [==============================] - 1s 4ms/step - loss: 4.3832e-05 - accuracy: 1.0000 - val_loss: 0.0620 - val_accuracy: 0.9879\n",
            "Epoch 49/50\n",
            "375/375 [==============================] - 2s 4ms/step - loss: 3.8393e-05 - accuracy: 1.0000 - val_loss: 0.0624 - val_accuracy: 0.9883\n",
            "Epoch 50/50\n",
            "375/375 [==============================] - 2s 4ms/step - loss: 3.3691e-05 - accuracy: 1.0000 - val_loss: 0.0631 - val_accuracy: 0.9879\n"
          ]
        }
      ]
    },
    {
      "cell_type": "code",
      "source": [
        "model.evaluate(Xtest, ytest)"
      ],
      "metadata": {
        "colab": {
          "base_uri": "https://localhost:8080/"
        },
        "id": "xAXnom8HXMN2",
        "outputId": "ec6e3a28-b4b1-4d6a-e520-3c4ff9eeb2f2"
      },
      "execution_count": null,
      "outputs": [
        {
          "output_type": "stream",
          "name": "stdout",
          "text": [
            "313/313 [==============================] - 1s 3ms/step - loss: 0.0579 - accuracy: 0.9876\n"
          ]
        },
        {
          "output_type": "execute_result",
          "data": {
            "text/plain": [
              "[0.05793924629688263, 0.9876000285148621]"
            ]
          },
          "metadata": {},
          "execution_count": 8
        }
      ]
    },
    {
      "cell_type": "code",
      "source": [],
      "metadata": {
        "id": "gSXclktiXQDL"
      },
      "execution_count": null,
      "outputs": []
    }
  ]
}