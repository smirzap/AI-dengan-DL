{
  "nbformat": 4,
  "nbformat_minor": 0,
  "metadata": {
    "colab": {
      "provenance": [],
      "toc_visible": true,
      "authorship_tag": "ABX9TyOTjiW3Gr+16C1XHHJKirlD",
      "include_colab_link": true
    },
    "kernelspec": {
      "name": "python3",
      "display_name": "Python 3"
    },
    "language_info": {
      "name": "python"
    },
    "accelerator": "GPU"
  },
  "cells": [
    {
      "cell_type": "markdown",
      "metadata": {
        "id": "view-in-github",
        "colab_type": "text"
      },
      "source": [
        "<a href=\"https://colab.research.google.com/github/smirzap/AI-dengan-DL/blob/main/evaluasi_kinerja_batchsize_GD.ipynb\" target=\"_parent\"><img src=\"https://colab.research.google.com/assets/colab-badge.svg\" alt=\"Open In Colab\"/></a>"
      ]
    },
    {
      "cell_type": "markdown",
      "source": [
        "# Evaluasi Kinerja Algoritme Optimasi Gradient Descent\n",
        "\n",
        "Eksperimen dilakukan untuk menguji akurasi dan durasi waktu. Metode yang digunakan adalah SGD_1, SGD_32 dan SGD_60K masing-masing merupakan SGD dengan jumlah batch = 1, Mini-Batch SGD dengan jumlah batch = 32 dan Batch Gradient Descent dengan jumlah batch = 60.000."
      ],
      "metadata": {
        "id": "qdaNzk2W2TSW"
      }
    },
    {
      "cell_type": "markdown",
      "source": [
        "## Import library dibutuhkan\n",
        "\n",
        "*   Import library TensorFlow untuk Deep Learning\n",
        "*   Untuk penayangan hasil secara visual import tensorboard"
      ],
      "metadata": {
        "id": "z9QXNO9M2gKw"
      }
    },
    {
      "cell_type": "code",
      "execution_count": null,
      "metadata": {
        "id": "H8j2cOiK15W9"
      },
      "outputs": [],
      "source": [
        "import tensorflow as tf\n",
        "from tensorflow import keras\n",
        "\n",
        "%load_ext tensorboard\n",
        "import datetime\n",
        "\n",
        "# Hapus semua rekaman data tensorboard dari eksekusi sebelumnya\n",
        "!rm -rf ./logs/"
      ]
    },
    {
      "cell_type": "code",
      "source": [
        "# Pastikan Anda menggunakan GPU agar pembuatan model NN jauh lebih cepat\n",
        "!nvidia-smi"
      ],
      "metadata": {
        "colab": {
          "base_uri": "https://localhost:8080/"
        },
        "id": "96fpvTuU4s4N",
        "outputId": "17df150e-9d18-4305-82b3-1ff4fa3e4c2d"
      },
      "execution_count": null,
      "outputs": [
        {
          "output_type": "stream",
          "name": "stdout",
          "text": [
            "Fri Jun 30 16:16:31 2023       \n",
            "+-----------------------------------------------------------------------------+\n",
            "| NVIDIA-SMI 525.85.12    Driver Version: 525.85.12    CUDA Version: 12.0     |\n",
            "|-------------------------------+----------------------+----------------------+\n",
            "| GPU  Name        Persistence-M| Bus-Id        Disp.A | Volatile Uncorr. ECC |\n",
            "| Fan  Temp  Perf  Pwr:Usage/Cap|         Memory-Usage | GPU-Util  Compute M. |\n",
            "|                               |                      |               MIG M. |\n",
            "|===============================+======================+======================|\n",
            "|   0  Tesla T4            Off  | 00000000:00:04.0 Off |                    0 |\n",
            "| N/A   46C    P8     9W /  70W |      0MiB / 15360MiB |      0%      Default |\n",
            "|                               |                      |                  N/A |\n",
            "+-------------------------------+----------------------+----------------------+\n",
            "                                                                               \n",
            "+-----------------------------------------------------------------------------+\n",
            "| Processes:                                                                  |\n",
            "|  GPU   GI   CI        PID   Type   Process name                  GPU Memory |\n",
            "|        ID   ID                                                   Usage      |\n",
            "|=============================================================================|\n",
            "|  No running processes found                                                 |\n",
            "+-----------------------------------------------------------------------------+\n"
          ]
        }
      ]
    },
    {
      "cell_type": "markdown",
      "source": [
        "## Setting Penggunaan GPU:\n",
        "1. Klik menu: `Edit→Notebook Settings`\n",
        "2. Pilih `GPU` dari menu drop-down `Hardware Accelerator`\n",
        "\n"
      ],
      "metadata": {
        "id": "q7fN2Y9I60ma"
      }
    },
    {
      "cell_type": "markdown",
      "source": [
        "## Penyiapan Dataset Fashion-MNIST\n",
        "\n",
        "\n",
        "*   Eksperiment menggunakan Fashion-MNIST sebagai dataset. Dataset ini merupakan kumpulan dari  70 ribu data gambar fashion yang terdiri dari 60 ribu example pada training set (Xtrain) dan 10 ribu example pada test set (Xtest).\n",
        "*   Semua gambar memiliki skala abu-abu dengan ukuran 28×28 piksel (total 784 piksel)"
      ],
      "metadata": {
        "id": "W2IKMomO2qIf"
      }
    },
    {
      "cell_type": "code",
      "source": [
        "fashion=keras.datasets.fashion_mnist\n",
        "(X_train, y_train), (X_test, y_test) = fashion.load_data()\n",
        "X_train, X_test = X_train/255.0, X_test/255.0"
      ],
      "metadata": {
        "id": "E_OjHxsP2oRy",
        "colab": {
          "base_uri": "https://localhost:8080/"
        },
        "outputId": "e3c0d4ca-6063-4b3e-bc12-d5df46eb7350"
      },
      "execution_count": null,
      "outputs": [
        {
          "output_type": "stream",
          "name": "stdout",
          "text": [
            "Downloading data from https://storage.googleapis.com/tensorflow/tf-keras-datasets/train-labels-idx1-ubyte.gz\n",
            "29515/29515 [==============================] - 0s 1us/step\n",
            "Downloading data from https://storage.googleapis.com/tensorflow/tf-keras-datasets/train-images-idx3-ubyte.gz\n",
            "26421880/26421880 [==============================] - 3s 0us/step\n",
            "Downloading data from https://storage.googleapis.com/tensorflow/tf-keras-datasets/t10k-labels-idx1-ubyte.gz\n",
            "5148/5148 [==============================] - 0s 0us/step\n",
            "Downloading data from https://storage.googleapis.com/tensorflow/tf-keras-datasets/t10k-images-idx3-ubyte.gz\n",
            "4422102/4422102 [==============================] - 1s 0us/step\n"
          ]
        }
      ]
    },
    {
      "cell_type": "code",
      "source": [
        "# Mari kita lihat data MNIST secara random\n",
        "# Anda dapat eksekusi cell ini berkali-kali dengan menekan ctrl-enter\n",
        "\n",
        "import matplotlib.pyplot as plt\n",
        "import numpy as np\n",
        "\n",
        "i= np.random.randint(0, len(X_train)-5)\n",
        "plt.subplot(3,2,1)\n",
        "plt.imshow(X_train[i])\n",
        "plt.subplot(3,2,2)\n",
        "plt.imshow(X_train[i+1])\n",
        "plt.subplot(3,2,3)\n",
        "plt.imshow(X_train[i+2])\n",
        "plt.subplot(3,2,4)\n",
        "plt.imshow(X_train[i+3])"
      ],
      "metadata": {
        "colab": {
          "base_uri": "https://localhost:8080/",
          "height": 320
        },
        "id": "RrvWj-TJ2tLZ",
        "outputId": "62389cd2-9cc6-434f-c7eb-d05aca5ba5cd"
      },
      "execution_count": null,
      "outputs": [
        {
          "output_type": "execute_result",
          "data": {
            "text/plain": [
              "<matplotlib.image.AxesImage at 0x7faaf6d8bb20>"
            ]
          },
          "metadata": {},
          "execution_count": 4
        },
        {
          "output_type": "display_data",
          "data": {
            "text/plain": [
              "<Figure size 640x480 with 4 Axes>"
            ],
            "image/png": "[encoded data removed]"
          },
          "metadata": {}
        }
      ]
    },
    {
      "cell_type": "markdown",
      "source": [
        "## Simpan nama class/kategori fashion pada vektor\n",
        "Berikut adalah sepuluh label atau kategori gambar fashion.\n",
        "0.\tT-shirt/top\n",
        "1.\tTrouser\n",
        "2.\tPullover\n",
        "3.\tDress\n",
        "4.\tCoat\n",
        "5.\tSandal\n",
        "6.\tShirt\n",
        "7.\tSneaker\n",
        "8.\tBag\n",
        "9.\tAnkle boot"
      ],
      "metadata": {
        "id": "PUVnyHOI4Ag9"
      }
    },
    {
      "cell_type": "code",
      "source": [
        "class_names = ['T-shirt/top', 'Trouser', 'Pullover', 'Dress', 'Coat',\n",
        "               'Sandal', 'Shirt', 'Sneaker', 'Bag', 'Ankle boot']\n",
        "\n",
        "class_names"
      ],
      "metadata": {
        "colab": {
          "base_uri": "https://localhost:8080/"
        },
        "id": "RNxxgOj22u_y",
        "outputId": "a0b1ecbb-c2f4-4663-dc65-dd77600bdc41"
      },
      "execution_count": null,
      "outputs": [
        {
          "output_type": "execute_result",
          "data": {
            "text/plain": [
              "['T-shirt/top',\n",
              " 'Trouser',\n",
              " 'Pullover',\n",
              " 'Dress',\n",
              " 'Coat',\n",
              " 'Sandal',\n",
              " 'Shirt',\n",
              " 'Sneaker',\n",
              " 'Bag',\n",
              " 'Ankle boot']"
            ]
          },
          "metadata": {},
          "execution_count": 5
        }
      ]
    },
    {
      "cell_type": "markdown",
      "source": [
        "## Definisikan Struktur DNN dan metode evaluasinya\n",
        "\n",
        "Struktur DNN dan metrik evaluasi:\n",
        "*   **Input layer** dengan 28x28 = 784 neurons\n",
        "*   **Hidden laye**r (fully connected) dengan 32 neurons dan fungsi aktivasi ReLU\n",
        "*   **Output layer** (fully connected) dengan 10 neurons dan fungsi aktivasi Softmax\n",
        "*   Untuk evaluasi performa akurasi dalam pengklasifikasian 10 kategori fashion, gunakan cost function cross entropy dengan optimizer SGD.\n",
        "*   Pada eksperiment ini, jumlah batch (batch_size) yang berbeda-beda antar DNN\n",
        "\n",
        "Pada setiap epoch akan ditayangkan hasil penghitungan berikut:\n",
        "*   **loss** : error yang diukur pada training set\n",
        "*   **accuracy** : akurasi yang diukur pada training set\n",
        "*   **val_loss** : error yang diukur pada validation set\n",
        "*   **val_accuracy** : akurasi yang diukur pada validation set\n",
        "\n",
        "\n",
        "\n",
        "\n"
      ],
      "metadata": {
        "id": "fU4Nx0A74TsR"
      }
    },
    {
      "cell_type": "markdown",
      "source": [
        "### Eksperimen Pertama: SGD_1"
      ],
      "metadata": {
        "id": "fLmIXzHo5Uo-"
      }
    },
    {
      "cell_type": "code",
      "source": [
        "# Siapkan tempat penyimpanan hasil eksperiment\n",
        "dir_rekamdata = \"logs/SGD_16/\" + datetime.datetime.now().strftime(\"%Y%m%d-%H%M%S\")\n",
        "tensorboard_callback = tf.keras.callbacks.TensorBoard(log_dir=dir_rekamdata, histogram_freq=1)\n",
        "\n",
        "# Definisikan struktur Deep Neural Network (DNN) sesuai konfigurasi/hyperparameter yang diinginkan\n",
        "model = keras.models.Sequential()\n",
        "model.add(keras.layers.Flatten(input_shape=[28, 28], name='input_layer'))\n",
        "model.add(keras.layers.Dense(32, activation='relu', name='hidden_layer'))\n",
        "model.add(keras.layers.Dense(10, activation='softmax', name='output_layer'))\n",
        "\n",
        "# Kompilasi DNN dengan metric pengukuran kinerja dan optimizer yang diinginkan\n",
        "model.compile(loss='sparse_categorical_crossentropy', optimizer='SGD', metrics=['accuracy'])\n",
        "\n",
        "# Tayangkan deksripsi model yang telah didefinisikan\n",
        "model.summary()\n",
        "\n",
        "# Jalankan eksperiment sampai 20 epochs\n",
        "# Perhatikan, 20% dari training set dipisah sebagai validation set untuk mengukur error pada setiap akhir epoch (val_loss)\n",
        "# Untuk mengubah ukuran batch, tentukan nilai pada parameter batch_size. Hati-hati utk batch_size=1 karena waktu eksekusi lama.\n",
        "\n",
        "history = model.fit(X_train, y_train, epochs=20, validation_split=0.2, batch_size=1, callbacks=[tensorboard_callback])"
      ],
      "metadata": {
        "id": "cUMU8ngC4P_h"
      },
      "execution_count": null,
      "outputs": []
    },
    {
      "cell_type": "code",
      "source": [
        "model.evaluate(X_test, y_test)"
      ],
      "metadata": {
        "id": "9v1QTs-wmrNO",
        "colab": {
          "base_uri": "https://localhost:8080/"
        },
        "outputId": "a5adc852-cb90-4466-9dc3-db0606b9cfbe"
      },
      "execution_count": null,
      "outputs": [
        {
          "output_type": "stream",
          "name": "stdout",
          "text": [
            "313/313 [==============================] - 1s 2ms/step - loss: 0.4024 - accuracy: 0.8570\n"
          ]
        },
        {
          "output_type": "execute_result",
          "data": {
            "text/plain": [
              "[0.40242403745651245, 0.8569999933242798]"
            ]
          },
          "metadata": {},
          "execution_count": 8
        }
      ]
    },
    {
      "cell_type": "markdown",
      "source": [
        "### Eksperiment Kedua SGD_32"
      ],
      "metadata": {
        "id": "raBBNRn_5ZHo"
      }
    },
    {
      "cell_type": "code",
      "source": [
        "# Siapkan tempat penyimpanan hasil eksperiment\n",
        "dir_rekamdata = \"logs/SGD_32/\" + datetime.datetime.now().strftime(\"%Y%m%d-%H%M%S\")\n",
        "tensorboard_callback = tf.keras.callbacks.TensorBoard(log_dir=dir_rekamdata, histogram_freq=1)\n",
        "\n",
        "# Definisikan struktur Deep Neural Network (DNN) sesuai konfigurasi/hyperparameter yang diinginkan\n",
        "model2 = keras.models.Sequential()\n",
        "model2.add(keras.layers.Flatten(input_shape=[28, 28]))\n",
        "model2.add(keras.layers.Dense(32, activation='relu'))\n",
        "model2.add(keras.layers.Dense(10, activation='softmax'))\n",
        "\n",
        "# Kompilasi DNN dengan metric pengukuran kinerja dan optimizer yang diinginkan\n",
        "model2.compile(loss='sparse_categorical_crossentropy', optimizer='SGD', metrics=['accuracy'])\n",
        "\n",
        "# Tayangkan deksripsi model yang telah didefinisikan\n",
        "model2.summary()\n",
        "\n",
        "# Jalankan eksperiment sampai 50 epochs\n",
        "# Perhatikan, 20% dari training set dipisah sebagai validation set untuk mengukur error pada setiap akhir epoch (val_loss)\n",
        "# Untuk mengubah ukuran batch, tentukan nilai pada parameter batch_size. Hati-hati utk batch_size=1 karena waktu eksekusi lama.\n",
        "\n",
        "history2 = model2.fit(X_train, y_train, epochs=5, validation_split=0.2, batch_size=32, callbacks=[tensorboard_callback])\n"
      ],
      "metadata": {
        "colab": {
          "base_uri": "https://localhost:8080/"
        },
        "id": "dloqO3uZ5D7Z",
        "outputId": "58b02933-1a17-4c69-ddde-9c1011638436"
      },
      "execution_count": null,
      "outputs": [
        {
          "output_type": "stream",
          "name": "stdout",
          "text": [
            "Model: \"sequential_3\"\n",
            "_________________________________________________________________\n",
            " Layer (type)                Output Shape              Param #   \n",
            "=================================================================\n",
            " flatten_2 (Flatten)         (None, 784)               0         \n",
            "                                                                 \n",
            " dense_4 (Dense)             (None, 32)                25120     \n",
            "                                                                 \n",
            " dense_5 (Dense)             (None, 10)                330       \n",
            "                                                                 \n",
            "=================================================================\n",
            "Total params: 25,450\n",
            "Trainable params: 25,450\n",
            "Non-trainable params: 0\n",
            "_________________________________________________________________\n",
            "Epoch 1/5\n",
            "1500/1500 [==============================] - 4s 3ms/step - loss: 0.8862 - accuracy: 0.7159 - val_loss: 0.6103 - val_accuracy: 0.7934\n",
            "Epoch 2/5\n",
            "1500/1500 [==============================] - 4s 2ms/step - loss: 0.5676 - accuracy: 0.8060 - val_loss: 0.5299 - val_accuracy: 0.8157\n",
            "Epoch 3/5\n",
            "1500/1500 [==============================] - 4s 2ms/step - loss: 0.5109 - accuracy: 0.8239 - val_loss: 0.4941 - val_accuracy: 0.8262\n",
            "Epoch 4/5\n",
            "1500/1500 [==============================] - 4s 2ms/step - loss: 0.4830 - accuracy: 0.8330 - val_loss: 0.4712 - val_accuracy: 0.8349\n",
            "Epoch 5/5\n",
            "1500/1500 [==============================] - 4s 2ms/step - loss: 0.4653 - accuracy: 0.8393 - val_loss: 0.4575 - val_accuracy: 0.8369\n"
          ]
        }
      ]
    },
    {
      "cell_type": "code",
      "source": [
        "model2.evaluate(X_test, y_test)"
      ],
      "metadata": {
        "colab": {
          "base_uri": "https://localhost:8080/"
        },
        "id": "XtkSeVGuoDrY",
        "outputId": "aac502f9-00f5-48be-e057-5cec3fe60a51"
      },
      "execution_count": null,
      "outputs": [
        {
          "output_type": "stream",
          "name": "stdout",
          "text": [
            "313/313 [==============================] - 1s 3ms/step - loss: 0.4842 - accuracy: 0.8294\n"
          ]
        },
        {
          "output_type": "execute_result",
          "data": {
            "text/plain": [
              "[0.4842015504837036, 0.8294000029563904]"
            ]
          },
          "metadata": {},
          "execution_count": 11
        }
      ]
    },
    {
      "cell_type": "markdown",
      "source": [
        "### Eksperiment ketiga"
      ],
      "metadata": {
        "id": "wq6MJ-Ar5eGQ"
      }
    },
    {
      "cell_type": "code",
      "source": [
        "# Siapkan tempat penyimpanan hasil eksperiment\n",
        "dir_rekamdata = \"logs/SGD_60K/\" + datetime.datetime.now().strftime(\"%Y%m%d-%H%M%S\")\n",
        "tensorboard_callback = tf.keras.callbacks.TensorBoard(log_dir=dir_rekamdata, histogram_freq=1)\n",
        "\n",
        "# Definisikan struktur Deep Neural Network (DNN) sesuai konfigurasi/hyperparameter yang diinginkan\n",
        "model = keras.models.Sequential()\n",
        "model.add(keras.layers.Flatten(input_shape=[28, 28]))\n",
        "model.add(keras.layers.Dense(32, activation='relu'))\n",
        "model.add(keras.layers.Dense(10, activation='softmax'))\n",
        "\n",
        "# Kompilasi DNN dengan metric pengukuran kinerja dan optimizer yang diinginkan\n",
        "model.compile(loss='sparse_categorical_crossentropy', optimizer='SGD', metrics=['accuracy'])\n",
        "\n",
        "# Tayangkan deksripsi model yang telah didefinisikan\n",
        "model.summary()\n",
        "\n",
        "# Jalankan eksperiment sampai 50 epochs\n",
        "# Perhatikan, 20% dari training set dipisah sebagai validation set untuk mengukur error pada setiap akhir epoch (val_loss)\n",
        "# Untuk mengubah ukuran batch, tentukan nilai pada parameter batch_size. Hati-hati utk batch_size=1 karena waktu eksekusi lama.\n",
        "\n",
        "history = model.fit(X_train, y_train, epochs=20, validation_split=0.2, batch_size=60000, callbacks=[tensorboard_callback])\n"
      ],
      "metadata": {
        "colab": {
          "base_uri": "https://localhost:8080/"
        },
        "id": "c4PDtf185Fv5",
        "outputId": "fb624f09-ccf7-4edb-c368-2ef4bb667bf5"
      },
      "execution_count": null,
      "outputs": [
        {
          "output_type": "stream",
          "name": "stdout",
          "text": [
            "Model: \"sequential_7\"\n",
            "_________________________________________________________________\n",
            " Layer (type)                Output Shape              Param #   \n",
            "=================================================================\n",
            " flatten_7 (Flatten)         (None, 784)               0         \n",
            "                                                                 \n",
            " dense_14 (Dense)            (None, 32)                25120     \n",
            "                                                                 \n",
            " dense_15 (Dense)            (None, 10)                330       \n",
            "                                                                 \n",
            "=================================================================\n",
            "Total params: 25,450\n",
            "Trainable params: 25,450\n",
            "Non-trainable params: 0\n",
            "_________________________________________________________________\n",
            "Epoch 1/20\n",
            "1/1 [==============================] - 1s 799ms/step - loss: 2.4958 - accuracy: 0.0988 - val_loss: 2.4551 - val_accuracy: 0.0979\n",
            "Epoch 2/20\n",
            "1/1 [==============================] - 0s 190ms/step - loss: 2.4499 - accuracy: 0.0987 - val_loss: 2.4184 - val_accuracy: 0.0993\n",
            "Epoch 3/20\n",
            "1/1 [==============================] - 0s 143ms/step - loss: 2.4140 - accuracy: 0.0997 - val_loss: 2.3880 - val_accuracy: 0.1018\n",
            "Epoch 4/20\n",
            "1/1 [==============================] - 0s 159ms/step - loss: 2.3843 - accuracy: 0.1024 - val_loss: 2.3620 - val_accuracy: 0.1088\n",
            "Epoch 5/20\n",
            "1/1 [==============================] - 0s 147ms/step - loss: 2.3588 - accuracy: 0.1087 - val_loss: 2.3394 - val_accuracy: 0.1191\n",
            "Epoch 6/20\n",
            "1/1 [==============================] - 0s 146ms/step - loss: 2.3366 - accuracy: 0.1188 - val_loss: 2.3194 - val_accuracy: 0.1291\n",
            "Epoch 7/20\n",
            "1/1 [==============================] - 0s 186ms/step - loss: 2.3170 - accuracy: 0.1289 - val_loss: 2.3017 - val_accuracy: 0.1399\n",
            "Epoch 8/20\n",
            "1/1 [==============================] - 0s 187ms/step - loss: 2.2996 - accuracy: 0.1389 - val_loss: 2.2856 - val_accuracy: 0.1485\n",
            "Epoch 9/20\n",
            "1/1 [==============================] - 0s 197ms/step - loss: 2.2839 - accuracy: 0.1484 - val_loss: 2.2710 - val_accuracy: 0.1587\n",
            "Epoch 10/20\n",
            "1/1 [==============================] - 0s 163ms/step - loss: 2.2696 - accuracy: 0.1576 - val_loss: 2.2575 - val_accuracy: 0.1685\n",
            "Epoch 11/20\n",
            "1/1 [==============================] - 0s 151ms/step - loss: 2.2564 - accuracy: 0.1665 - val_loss: 2.2450 - val_accuracy: 0.1789\n",
            "Epoch 12/20\n",
            "1/1 [==============================] - 0s 187ms/step - loss: 2.2440 - accuracy: 0.1753 - val_loss: 2.2332 - val_accuracy: 0.1866\n",
            "Epoch 13/20\n",
            "1/1 [==============================] - 0s 148ms/step - loss: 2.2325 - accuracy: 0.1837 - val_loss: 2.2221 - val_accuracy: 0.1947\n",
            "Epoch 14/20\n",
            "1/1 [==============================] - 0s 183ms/step - loss: 2.2215 - accuracy: 0.1911 - val_loss: 2.2115 - val_accuracy: 0.2013\n",
            "Epoch 15/20\n",
            "1/1 [==============================] - 0s 198ms/step - loss: 2.2111 - accuracy: 0.1981 - val_loss: 2.2014 - val_accuracy: 0.2087\n",
            "Epoch 16/20\n",
            "1/1 [==============================] - 0s 192ms/step - loss: 2.2012 - accuracy: 0.2058 - val_loss: 2.1917 - val_accuracy: 0.2162\n",
            "Epoch 17/20\n",
            "1/1 [==============================] - 0s 184ms/step - loss: 2.1916 - accuracy: 0.2130 - val_loss: 2.1824 - val_accuracy: 0.2235\n",
            "Epoch 18/20\n",
            "1/1 [==============================] - 0s 190ms/step - loss: 2.1824 - accuracy: 0.2212 - val_loss: 2.1734 - val_accuracy: 0.2313\n",
            "Epoch 19/20\n",
            "1/1 [==============================] - 0s 158ms/step - loss: 2.1735 - accuracy: 0.2290 - val_loss: 2.1647 - val_accuracy: 0.2391\n",
            "Epoch 20/20\n",
            "1/1 [==============================] - 0s 155ms/step - loss: 2.1649 - accuracy: 0.2359 - val_loss: 2.1562 - val_accuracy: 0.2463\n"
          ]
        }
      ]
    },
    {
      "cell_type": "markdown",
      "source": [
        "## Tayangkan hasil eksperimen"
      ],
      "metadata": {
        "id": "c9UJES1i5mIZ"
      }
    },
    {
      "cell_type": "code",
      "source": [
        "%tensorboard --logdir logs/"
      ],
      "metadata": {
        "id": "VgT2o5Pr5oV5"
      },
      "execution_count": null,
      "outputs": []
    }
  ]
}